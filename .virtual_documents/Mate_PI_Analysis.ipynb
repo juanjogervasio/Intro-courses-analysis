import pandas as pd
import seaborn as sns
import numpy as np
import matplotlib.pyplot as plt

sns.set_style("darkgrid")


mate_pi = pd.read_csv("Mate_PI_2020_2025.csv", index_col=0, dtype={"Condicion":"category", "Tipo_Cursada":"category"})








mate_pi.head()


mate_pi.dtypes


mate_pi["Año"].unique()


mate_pi["Condicion"].info()


# Setting categories for columns Condicion and Tipo_Cursada
mate_pi["Condicion"] = mate_pi["Condicion"].cat.set_categories(
                            ["Libre", "Abandonó", "Desaprobado", "Promocionado"],
                            ordered = True)


mate_pi["Tipo_Cursada"] = mate_pi["Tipo_Cursada"].cat.set_categories(
                            ["Verano", "1er Semestre", "Anticipada"],
                            ordered = True)


mate_pi["Condicion"].value_counts().plot.bar()
plt.show()


sns.catplot(data=mate_pi, x="Condicion", kind="count", stat="percent", hue="Virtual")
plt.show()


mate_pi["Virtual"].unique()


# Cleaning data in Virtual column
mate_pi["Virtual"] = mate_pi["Virtual"].str.replace("i", "í")


mate_pi["Virtual"].unique()


sns.catplot(data=mate_pi, x="Condicion", kind="count", stat="percent", hue="Virtual")
plt.show()


sns.catplot(data=mate_pi, x="Condicion", kind="count", hue="Tipo_Cursada")
plt.show()


sns.catplot(data=mate_pi[mate_pi["Tipo_Cursada"] == "Anticipada"], x="Condicion", kind="count", hue="Año")
plt.show()


mate_pi.groupby("Virtual")["Condicion"].value_counts(normalize=True)


sns.catplot(data=mate_pi, x="Condicion", kind="count", col="Tipo_Cursada", stat="percent")
plt.show()


sns.catplot(data=mate_pi, x="Condicion", kind="count", col="Año", row="Tipo_Cursada", palette=["brown", "yellow", "red", "green"], label="Resumen")
plt.show()


# Creating subset: Verano_2020
Verano_2020=mate_pi[ (mate_pi["Año"] == 2020) & (mate_pi["Tipo_Cursada"] == "Verano")]


sns.catplot(data=Verano_2020, x="Condicion", kind="count", stat="percent", palette=["brown", "yellow", "red", "green"] )
plt.show()


# Creating subset: Anticipada_2024
Anticipada_2024=mate_pi[ (mate_pi["Año"] == 2024) & (mate_pi["Tipo_Cursada"] == "Anticipada")]


Anticipada_2024.head()


sns.catplot(data=Anticipada_2024, x="Condicion", kind="count", stat="percent", palette=["brown", "yellow", "red", "green"] )
plt.show()


# A function to filter data: Año, Tipo_Cursada
def filtered_data(data, año, tipo_cursada):
    """

    Parameters
    ----------
    data : pandas DataFrame
    año : integer
        Year to filter, from 2020 to 2025
    tipo_cursada : string
        Options: Verano, Anticipada, 1er Semestre
    Returns
    -------
    pandas DataFrame

    """
    return data[ (data["Año"] == año) & (data["Tipo_Cursada"] == tipo_cursada)]


# Plotting the percentages of all the courses
años = range(2020,2026,1)
cursadas = ["Verano", "1er Semestre", "Anticipada"]

fig, axs = plt.subplots(nrows = len(cursadas), ncols = len(años), figsize=(20,10), sharex=True, sharey=True)

for año in range(len(años)):
    for cursada in range(len(cursadas)):
        data = filtered_data(mate_pi, años[año], cursadas[cursada])
        sns.countplot(data=data, x="Condicion", stat="percent", palette=["brown", "yellow", "red", "green"], hue="Condicion", legend=False, ax=axs[cursada, año] )
        axs[cursada, año].set_title(f"{cursadas[cursada]} | {años[año]}", size=8)
        axs[cursada, año].tick_params(axis="x", size=7,rotation=45)
plt.show()


# Creating subset: Anticipadas
Anticipadas = mate_pi[ mate_pi["Tipo_Cursada"] == "Anticipada" ]


Anticipadas.head()


# Data types
mate_pi.dtypes


# Creating subset: Flotantes
Flotantes = mate_pi.merge(mate_pi[["F1","F2"]].dropna(how="all"), left_index=True, right_index=True, how="inner", suffixes=["","_copy"])


Flotantes[Flotantes["Condicion"]=="Abandonó"] 





mate_pi.loc[620,"F2"] = np.NaN


mate_pi.iloc[620]


Flotantes = mate_pi.merge(mate_pi[["F1","F2"]].dropna(how="all"), left_index=True, right_index=True, how="inner", suffixes=["","_copy"])


Flotantes["Condicion"].value_counts()


print("Flotante de Primer Parcial:")
print(f"Rindieron {Flotantes[ ~Flotantes["F1"].isna() ]["F1"].count()} personas")
for i in ["Promocionado", "Desaprobado"]:
    print(f"{i}s: {Flotantes[ ~Flotantes["F1"].isna() ]["Condicion"].value_counts(normalize=True).loc[ i ]: .2%}")
print("\n")
print("Flotante de Segundo Parcial:")
print(f"Rindieron {Flotantes[ ~Flotantes["F2"].isna() ]["F2"].count()} personas")
for i in ["Promocionado", "Desaprobado"]:
    print(f"{i}s: {Flotantes[ ~Flotantes["F2"].isna() ]["Condicion"].value_counts(normalize=True).loc[ i ]: .2%}")














Anticipada_2024 = filtered_data( mate_pi, 2024, "Anticipada" )


Anticipada_2024


inscriptos_2024 = Anticipada_2024.shape[0]
print(f"Cantidad de inscriptos: {inscriptos_2024}")





Anticipada_2024["Condicion"].value_counts(normalize=True).round(2)


ax = sns.countplot(data=Anticipada_2024,
              x="Condicion",
              hue="Condicion",
              stat="percent",
              alpha=0.8,
              palette=["brown", "yellow", "red", "green"])
for i in ax.containers:
    ax.bar_label(i, padding=2, fmt="%.1f")
plt.show()





parciales = ["1P1F", "1P2F", "2P1F", "2P2F", "F1", "F2"]


presentados_2024 = Anticipada_2024[ parciales ].dropna(how="all")


print("Anticipada 2024")
print("Cantidad de presentados:", presentados_2024.shape[0])
print("Proporción respecto a inscriptos:", f"{presentados_2024.shape[0]/inscriptos_2024: 0.2%}")








presentados_2024["Rindio_1P"] = ~presentados_2024["1P1F"].isna() | ~presentados_2024["1P2F"].isna()
presentados_2024["Rindio_2P"] = ~presentados_2024["2P1F"].isna() | ~presentados_2024["2P2F"].isna()


presentados_2024[["Rindio_1P", "Rindio_2P"]].sum()











fig, ax = plt.subplots(1,2, sharey=True, figsize=(15,5))
sns.set_style("darkgrid")
for i in range(0,2):
    sns.histplot(data=presentados_2024, x=parciales[i], bins=range(0,11), stat="percent", element="step", alpha=0.8, label=parciales[i], ax=ax[0])
for i in range(2,4):    
    sns.histplot(data=presentados_2024, x=parciales[i], bins=range(0,11), stat="percent", element="step", alpha=0.8, label=parciales[i], ax=ax[1])
    
ax[0].axvline(x=4, color="red", alpha=0.5, ls="--", label="Mín. para aprobar")
ax[0].axvline(x=6, color="green", alpha=0.5, ls="-.", label="Mayor a 6")
ax[0].legend(fontsize=8)
ax[0].set_xlabel("Notas")
ax[0].set_ylabel("Porcentaje")
ax[0].set_title("Primer Parcial")

ax[1].axvline(x=4, color="red", alpha=0.5, ls="--", label="Mín. para aprobar")
ax[1].axvline(x=6, color="green", alpha=0.5, ls="-.", label="Mayor a 6")
ax[1].legend(fontsize=8)
ax[1].set_xlabel("Notas")
ax[1].set_title("Segundo Parcial")

fig.suptitle("Anticipada 2024")
plt.show()





des_1P1F = presentados_2024[presentados_2024["1P1F"]<4]["1P1F"].count()
des_1P2F = presentados_2024[presentados_2024["1P2F"]<4]["1P2F"].count()

des_2P1F = presentados_2024[presentados_2024["2P1F"]<4]["2P1F"].count()
des_2P2F = presentados_2024[presentados_2024["2P2F"]<4]["2P2F"].count()

print("Anticipada 2024","\n")
print(f"Desaprobados 1P1F: {des_1P1F}, representa el {des_1P1F / presentados_2024["1P1F"].dropna().count() : .2%} del total de presentados")
print(f"Desaprobados 1P2F: {des_1P2F}, representa el {des_1P2F / presentados_2024["1P2F"].dropna().count() : .2%} del total de presentados", "\n")

print(f"Desaprobados 2P1F: {des_2P1F}, representa el {des_2P1F / presentados_2024["2P1F"].dropna().count() : .2%} del total de presentados")
print(f"Desaprobados 2P2F: {des_2P2F}, representa el {des_2P2F / presentados_2024["2P2F"].dropna().count() : .2%} del total de presentados", "\n")








bajaron_nota_1P_2024 = presentados_2024[parciales[0:2]][presentados_2024["1P1F"] > presentados_2024["1P2F"]]


resto_1P_2024 = presentados_2024[parciales[0:2]][~(presentados_2024["1P1F"] > presentados_2024["1P2F"])]


resto_1P_2024.shape


bajaron_nota_1P_2024.shape


# Cambiando por 0 los NaN en el caso de resto_1P_2024 y usando los valores máximos como nota final:
resto_1P_2024["Nota 1P"] = resto_1P_2024.fillna(0).apply(max, axis=1)


# En el caso de los bajaron_nota_1P_2024, me quedo con la última nota obtenida, que ya es numérica:
bajaron_nota_1P_2024["Nota 1P"] = bajaron_nota_1P_2024["1P2F"]


# Uno los resultados en un mismo DataFrame
notas_1P_2024 = pd.concat([bajaron_nota_1P_2024, resto_1P_2024])


# Merging con el dataset original:
presentados_2024 = presentados_2024.merge(notas_1P_2024["Nota 1P"], how="outer", left_index=True, right_index=True)


presentados_2024


# Hay que hacer lo mismo para el Segundo Parcial:

# Primero hay que filtrar los que no se presentaron a ninguna fecha:
rindieron_2P_2024 = presentados_2024[parciales[2:4]].dropna(how="all")

# Ahora sí, separo los que bajaron nota del resto:
bajaron_nota_2P_2024 = rindieron_2P_2024[rindieron_2P_2024["2P1F"] > rindieron_2P_2024["2P2F"]]

resto_2P_2024 = rindieron_2P_2024[~(rindieron_2P_2024["2P1F"] > rindieron_2P_2024["2P2F"])]

# Cambiando por 0 los NaN en el caso de resto_2P_2024 y usando los valores máximos como nota final:
resto_2P_2024["Nota 2P"] = resto_2P_2024.fillna(0).apply(max, axis=1)
# En el caso de los bajaron_nota_2P_2024, me quedo con la última nota obtenida, que ya es numérica:
bajaron_nota_2P_2024["Nota 2P"] = bajaron_nota_2P_2024["2P2F"]

# Uno los resultados en un mismo DataFrame:
notas_2P_2024 = pd.concat([bajaron_nota_2P_2024, resto_2P_2024])


# Merging con el dataset original:
presentados_2024 = presentados_2024.merge(notas_2P_2024["Nota 2P"], how="outer", left_index=True, right_index=True)


presentados_2024





sns.histplot(data=presentados_2024, x="Nota 1P", bins=range(0,11), stat="percent", element="step", alpha=0.8, label="Primer Parcial")
sns.histplot(data=presentados_2024, x="Nota 2P", bins=range(0,11), stat="percent", element="step", alpha=0.8, label="Segundo Parcial")
plt.title("Anticipada 2024")
plt.axvline(x=4, color="red", alpha=0.5, ls="--", label="Mín. para aprobar")
plt.axvline(x=6, color="green", alpha=0.5, ls="-.", label="Mayor a 6")
plt.legend(fontsize=8)
plt.xlabel("Notas")
plt.ylabel("Porcentaje")
plt.show()





print("Anticipada 2024 \n")
print(f"Aprobados 1P:{presentados_2024[ presentados_2024["Nota 1P"] >= 4 ]["Nota 1P"].count() / presentados_2024["Rindio_1P"].sum(): .2%}")
print(f"Mayor a 6 en 1P:{presentados_2024[ presentados_2024["Nota 1P"] >= 6 ]["Nota 1P"].count() / presentados_2024["Rindio_1P"].sum(): .2%}", "\n")

print(f"Aprobados 2P:{presentados_2024[ presentados_2024["Nota 2P"] >= 4 ]["Nota 2P"].count() / presentados_2024["Rindio_2P"].sum(): .2%}")
print(f"Mayor a 6 en 2P:{presentados_2024[ presentados_2024["Nota 2P"] >= 6 ]["Nota 2P"].count() / presentados_2024["Rindio_2P"].sum(): .2%}")





flotante_2024 = presentados_2024[["F1", "F2"]].dropna(how="all")


flotante_2024


flotante_completo_2024 = Anticipada_2024.merge( flotante_2024, right_index=True, left_index=True, how="inner", suffixes=["","_copy"])


print(flotante_completo_2024 ["Condicion"].value_counts(normalize = True))


print("Anticipada 2024:", "\n")
for i in ["Promocionado", "Desaprobado"]:
    print(f"{i}s en Flotante: {flotante_completo_2024 ["Condicion"].value_counts(normalize = True).loc[ i ]: .2%}")





print("Anticipada 2024", "\n")
print("Flotante de Primer Parcial:")
print(f"Rindieron {flotante_completo_2024[ ~flotante_completo_2024["F1"].isna() ]["F1"].count()} personas")
for i in ["Promocionado", "Desaprobado"]:
    print(f"{i}s: {flotante_completo_2024[ ~flotante_completo_2024["F1"].isna() ]["Condicion"].value_counts(normalize=True).loc[ i ]: .2%}")
print("\n")
print("Flotante de Segundo Parcial:")
print(f"Rindieron {flotante_completo_2024[ ~flotante_completo_2024["F2"].isna() ]["F2"].count()} personas")
for i in ["Promocionado", "Desaprobado"]:
    print(f"{i}s: {flotante_completo_2024[ ~flotante_completo_2024["F2"].isna() ]["Condicion"].value_counts(normalize=True).loc[ i ]: .2%}")

















# Evolución por año
fig, ax = plt.subplots(1,5, sharey = True, figsize = (20,5))
for i in range(0,5):
    sns.countplot(data=Anticipadas[ Anticipadas["Año"] == (2020 + i)],
                  x="Condicion",
                  hue="Condicion",
                  stat="percent",
                  alpha=0.8,
                  palette=["brown", "yellow", "red", "green"],
                  ax = ax[i])
    ax[i].set_title(f"{2020+i} - Sobre {Anticipadas[ Anticipadas["Año"] == (2020 + i)].shape[0]} alumnos")
    ax[i].set_ylabel("Porcentaje")
    ax[i].set_xlabel("")
    ax[i].tick_params(axis="x", labelsize = 8, rotation=45)

    for element in ax[i].containers:
        ax[i].bar_label(element, padding=2, fmt="%.2f")

plt.suptitle("Anticipadas 2020-2024")
plt.show()





Anticipadas.groupby("Año")["Condicion"].value_counts(normalize=True)


Porcentajes_Anticipadas = pd.crosstab(index = Anticipadas["Año"], columns = Anticipadas["Condicion"], normalize = "index")
Porcentajes_Anticipadas = Porcentajes_Anticipadas * 100 # Paso a porcentajes

Porcentajes_Anticipadas


Porcentajes_Anticipadas.plot(marker="o",
                           xticks=range(2020,2025),
                           ylabel="Porcentajes",
                           color=["brown", "yellow", "red", "green"])
plt.suptitle("Evolución anual de resultados - Anticipadas")
plt.show()





Activos_Anticipadas = Anticipadas[ Anticipadas["Condicion"] != "Libre" ]

Porcentajes_Activos_Anticipadas = pd.crosstab(index = Activos_Anticipadas["Año"], columns = Activos_Anticipadas["Condicion"], normalize = "index")
Porcentajes_Activos_Anticipadas = Porcentajes_Activos_Anticipadas * 100 # Paso a porcentajes

Porcentajes_Activos_Anticipadas


Porcentajes_Activos_Anticipadas.plot(marker="o",
                                   xticks=range(2020,2025),
                                   ylabel="Porcentajes",
                                   color=["yellow", "red", "green"])
plt.suptitle("Evolución anual sin alumnos libres - Anticipadas")
plt.show()














sns.histplot(data=Anticipadas, x="Condicion", bins=5, stat="percent", alpha=0.5, discrete=True, label="Anticipadas 2020-2024")
sns.histplot(data=Anticipada_2024, x="Condicion", bins=5, stat="percent", alpha=0.3, discrete=True, label="Anticipada 2024")
plt.legend()
plt.title("Comparación con resultados totales - Anticipadas")
plt.show()

Anticipadas["Condicion"].value_counts(normalize=True) * 100





sns.histplot(data=Activos_Anticipadas, x="Condicion", bins=5, stat="percent", alpha=0.5, discrete=True, label="Anticipadas 2020-2024")
sns.histplot(data=Anticipada_2024[Anticipada_2024["Condicion"] != "Libre"], x="Condicion", bins=5, stat="percent", alpha=0.3, discrete=True, label="Anticipada 2024")
plt.legend()
plt.title("Comparación con resultados sin Libres - Anticipadas")
plt.show()

print("Anticipadas 2020-2024 sin Libres")
print(Activos_Anticipadas["Condicion"].value_counts(normalize=True) * 100)
print("\n")
print("Anticipada 2024 sin Libres")
print(Anticipada_2024[Anticipada_2024["Condicion"] != "Libre"]["Condicion"].value_counts(normalize=True) * 100)








Promedios_Anticipadas = pd.crosstab(index = Anticipadas["Año"], columns = Anticipadas["Condicion"], normalize = "index").mean() * 100
Promedios_Anticipadas





sns.catplot(data=Promedios_Anticipadas, kind="bar", gap=-0.25, alpha=0.5, label="Resultados promedio Anticipadas 2020-2024")
sns.histplot(data=Anticipada_2024, x="Condicion", bins=5, stat="percent", alpha=0.3, discrete=True, color="darkorange", label="Anticipada 2024")
plt.legend(fontsize=8)
plt.ylabel("Porcentaje")
plt.title("Comparación con resultados promedio - Anticipadas")
plt.show()





# Una muestra de 100 estudiantes, tomando aleatoriamente 20 de cada año
Anticipadas_sample = Anticipadas.groupby("Año").sample(n= 20)


# Tomemos 100 muestras aleatorias, cambiando la semilla, para que sean todas diferentes. Y promediemos los resultados:
seed = 1234
resultados_muestras = pd.DataFrame({"Libre": [], "Abandonó":[], "Desaprobado":[], "Promocionado":[]}) # Un dataframe vacio
for i in range(100):
    sample = Anticipadas.groupby("Año").sample(n= 20, random_state=seed*(2*i+1))
    sample_counts = sample["Condicion"].value_counts(normalize=True) * 100
    sample_dataFrame = pd.DataFrame([sample_counts], columns=["Libre", "Abandonó", "Desaprobado", "Promocionado"]).reset_index(drop=True)
    resultados_muestras = pd.concat([resultados_muestras, sample_dataFrame])

resultados_muestras.reset_index(drop=True, inplace=True)
resultados_muestras





grid1 = sns.catplot(data=resultados_muestras.mean(), kind="bar", gap=-0.25, alpha=0.5, label="Resultados muestras Anticipadas 2020-2024")
ax1 = grid1.axes.flat[0]
for i in ax1.containers:
    ax1.bar_label(i, padding=2, fmt="%.1f")

grid2 = sns.histplot(data=Anticipada_2024, x="Condicion", bins=5, stat="percent", alpha=0.3, discrete=True, color="darkorange", label="Anticipada 2024")
ax2 = grid2.axes
for i in ax2.containers:
    ax2.bar_label(i, padding=2, fmt="%.1f")

plt.legend(fontsize=8)
plt.ylabel("Porcentaje")
plt.title("Comparación con muestras aleatorias - Anticipadas")
plt.show()





mate_pi.head()


mate_pi[ mate_pi["Tipo_Cursada"] == "1er Semestre" ]


parciales


primer_semestre = mate_pi[ mate_pi["Tipo_Cursada"] == "1er Semestre" ]


primer_semestre[parciales].dropna(how="all").describe()


primer_semestre_1P1F = primer_semestre["1P1F"]


primer_semestre_1P1F


fig, ax = plt.subplots(1,2, sharey=True, figsize=(15,5))
sns.set_style("darkgrid")
for i in range(0,2):
    sns.histplot(data=primer_semestre, x=parciales[i], bins=range(0,11), stat="percent", element="step", alpha=0.8, label=parciales[i], ax=ax[0])
for i in range(2,4):    
    sns.histplot(data=primer_semestre, x=parciales[i], bins=range(0,11), stat="percent", element="step", alpha=0.8, label=parciales[i], ax=ax[1])
    
ax[0].axvline(x=4, color="red", alpha=0.5, ls="--", label="Mín. para aprobar")
ax[0].axvline(x=6, color="green", alpha=0.5, ls="-.", label="Mayor a 6")
ax[0].legend(fontsize=8)
ax[0].set_xlabel("Notas")
ax[0].set_ylabel("Porcentaje")
ax[0].set_title("Primer Parcial")

ax[1].axvline(x=4, color="red", alpha=0.5, ls="--", label="Mín. para aprobar")
ax[1].axvline(x=6, color="green", alpha=0.5, ls="-.", label="Mayor a 6")
ax[1].legend(fontsize=8)
ax[1].set_xlabel("Notas")
ax[1].set_title("Segundo Parcial")

fig.suptitle("1er Semestre 2022 - 2024")
plt.show()


primer_parcial = primer_semestre["1P1F"].dropna()


pd.cut(primer_parcial, bins=10, labels=[str(i) + "-" + str(i+1) for i in range(0,10,1)]).value_counts(normalize=True).plot(kind="bar")
plt.xticks(rotation=0)
plt.show()


porcentajes = pd.cut(primer_parcial, bins=10, labels=[str(i) + "-" + str(i+1) for i in range(0,10,1)]).value_counts(normalize=True).sort_index()
porcentajes


suma = 0
for i in range(0,4):
    suma += porcentajes.iloc[i]
print("1P1F \n", f"Desaprobados: {suma: .2%}%\n", f"Aprobados: {1-suma: .2%}%")


primer_parcial_recu= primer_semestre["1P2F"].dropna()


pd.cut(primer_parcial_recu, bins=10, labels=[str(i) + "-" + str(i+1) for i in range(0,10,1)]).value_counts(normalize=True).plot(kind="bar")
plt.xticks(rotation=0)
plt.show()


porcentajes_recu = pd.cut(primer_parcial_recu, bins=10, labels=[str(i) + "-" + str(i+1) for i in range(0,10,1)]).value_counts(normalize=True).sort_index()
porcentajes_recu


suma = 0
for i in range(0,4):
    suma += porcentajes_recu.iloc[i]
print("1P2F \n", f"Desaprobados: {suma: .2%}%\n", f"Aprobados: {1-suma: .2%}%")





# Filtremos los datos según Cursadas de 1er Semestre
Cursadas1S = mate_pi[ mate_pi["Tipo_Cursada"] == "1er Semestre"]
Cursadas1S["Año"].unique()


# Evolución por año
fig, ax = plt.subplots(1,4, sharey = True, figsize = (20,5))
for i in range(2,6):
    sns.countplot(data=Cursadas1S[ Cursadas1S["Año"] == (2020 + i)],
                  x="Condicion",
                  hue="Condicion",
                  stat="percent",
                  alpha=0.8,
                  palette=["brown", "yellow", "red", "green"],
                  ax = ax[i])
    ax[i].set_title(f"{2020+i} - Sobre {Cursadas1S[ Cursadas1S["Año"] == (2020 + i)].shape[0]} alumnos")
    ax[i].set_ylabel("Porcentaje")
    ax[i].set_xlabel("")
    ax[i].tick_params(axis="x", labelsize = 8, rotation=45)

    for element in ax[i].containers:
        ax[i].bar_label(element, padding=2, fmt="%.2f")

plt.suptitle("Anticipadas 2022-2025")
plt.show()



