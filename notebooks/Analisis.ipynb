{
 "cells": [
  {
   "cell_type": "markdown",
   "id": "5fad8b67-670f-4499-9be1-401f140aec55",
   "metadata": {},
   "source": [
    "# Análisis de Desempeño en Cursos Introductorios de Matemática\n",
    "---"
   ]
  },
  {
   "cell_type": "code",
   "execution_count": 1,
   "id": "c7b6263f-fff3-4a43-ade8-7eeb5cbb195b",
   "metadata": {},
   "outputs": [],
   "source": [
    "# Importar librerias para el análisis\n",
    "import pandas as pd\n",
    "import seaborn as sns\n",
    "import numpy as np\n",
    "import matplotlib.pyplot as plt\n",
    "from IPython.display import display\n",
    "\n",
    "sns.set_style(\"darkgrid\")"
   ]
  },
  {
   "cell_type": "markdown",
   "id": "09db863c-9d42-442c-a13e-3661a67b345f",
   "metadata": {},
   "source": [
    "**IMPORTANTE**: definir adecuadamente la ubicación del archivo `Mate_PI_full_clean.csv` ."
   ]
  },
  {
   "cell_type": "code",
   "execution_count": 2,
   "id": "5181f76b-5044-458c-a514-c4accd1ebb7f",
   "metadata": {},
   "outputs": [],
   "source": [
    "# Definir ubicación de archivos\n",
    "# En Linux/Mac:\n",
    "path = r\"~/Desktop/Mate_PI/files/\"\n",
    "# En Windows:\n",
    "# path = r\"~\\OneDrive\\Escritorio\\Mate_PI\\files\\\\\"\n",
    "\n",
    "mate_pi = pd.read_csv(path + \"Mate_PI_full_clean.csv\", index_col=0, dtype={\"Condicion\":\"category\", \"Tipo_Cursada\":\"category\"})\n",
    "\n",
    "# Orden de categorías para Condicion\n",
    "mate_pi[\"Condicion\"] = mate_pi[\"Condicion\"].cat.set_categories(\n",
    "                            [\"Libre\", \"Abandonó\", \"Desaprobado\", \"Promocionado\"],\n",
    "                            ordered = True)\n",
    "\n",
    "# Colores para categoría Condicion\n",
    "colores_cond=[\"#7f7f7f\", \"#ff7f0e\", \"#d62728\", \"#2ca02c\"]\n",
    "\n",
    "# Colores en diccionario, para usar cuando no estén todas las categorías presentes:\n",
    "colores_cond_dict = {\n",
    "    \"Libre\" : \"#7f7f7f\",\n",
    "    \"Abandonó\" : \"#ff7f0e\",\n",
    "    \"Desaprobado\" : \"#d62728\",\n",
    "    \"Promocionado\" : \"#2ca02c\"\n",
    "}\n",
    "\n",
    "# Orden de categorías para Tipo_Cursada\n",
    "mate_pi[\"Tipo_Cursada\"] = mate_pi[\"Tipo_Cursada\"].cat.set_categories(\n",
    "                            [\"Verano\", \"1er Semestre\", \"Anticipada\"],\n",
    "                            ordered = True)"
   ]
  },
  {
   "cell_type": "markdown",
   "id": "baca1576-8688-45d8-bdcd-821535c50533",
   "metadata": {},
   "source": [
    "# Análisis exploratorio de los datos"
   ]
  },
  {
   "cell_type": "markdown",
   "id": "fd372955-a58c-4544-a33c-7426724ba2fe",
   "metadata": {},
   "source": [
    "**Breve descripción del dataset**\n",
    "\n",
    "Cada registro es único, corresponde a los resultados de cada alumno, identificados por el índice de fila. No se consignan datos personales, podría haber alumnos que cursaran más de una vez, pero no disponemos de esa información.\n",
    "\n",
    "- **1P1F**: nota del Primer Parcial, Primera Fecha. Valores `float` entre 0 y 10; si estuvo ausente se asigna -1.\n",
    "- **1P2F**: nota del Primer Parcial, Segunda Fecha. Valores `float` entre 0 y 10; si estuvo ausente se asigna -1.\n",
    "- **2P1F**: nota del Segundo Parcial, Primera Fecha. Valores `float` entre 0 y 10; si estuvo ausente se asigna -1.\n",
    "- **2P2F**: nota del Segundo Parcial, Segunda Fecha. Valores `float` entre 0 y 10; si estuvo ausente se asigna -1.\n",
    "\n",
    "La nota mínima para aprobar cada parcial es 4, la materia se promociona con un promedio mayor o igual a 6. \n",
    "\n",
    "- **F1**: nota del Flotante de Primer Parcial. Esta fecha permite recuperar el Primer Parcial si ya se logró aprobar el Segundo en las instancias anteriores. Valores `float` entre 0 y 10; si estuvo ausente se asigna -1.\n",
    "- **F2**: nota del Flotante de Segundo Parcial. Esta fecha permite recuperar el Segundo Parcial si ya se logró aprobar el Primero en las instancias anteriores. Valores `float` entre 0 y 10; si estuvo ausente se asigna -1.\n",
    "- **Condicion**: columna categórica, indica la condición final del alumno luego de los parciales.\n",
    "    -  *Libre*: no se presentó a ningún parcial.\n",
    "    -  *Abandonó*: rindió algún parcial pero no agotó las instancias posibles.\n",
    "    -  *Desaprobado*: no logró aprobar Primer Parcial y Segundo Parcial luego de agotar las instancias posibles, o sí lo hizo pero no logró alcanzar el promedio de Promoción.\n",
    "    -  *Promocionado*: aprobó ambos parciales con un promedio mayor o igual a 6.\n",
    "- **Final**: nota final de los alumnos promocionados. Valores `int` entre 6 y 10; si no promociona se asigna 0.\n",
    "- **Año**: año de la cursada. Valores `int` iniciando en 2020.\n",
    "- **Tipo_Cursada**: columna categórica, indica el período en el que se realizó la cursada.\n",
    "    - *Verano*: cursada intensiva de Enero-Febrero.\n",
    "    - *1er Semestre*: cursada regular de Marzo-Junio.\n",
    "    - *Anticipada*: cursada regular de Agosto-Noviembre.\n",
    "- **Virtual**: indica si la cursada fue dictada en modalidad virtual o no. Valores `int`, asigna 1 si fue virtual y 0 si no lo fue.\n",
    "- **Oral**: columna binaria. En las cursadas virtuales, además de aprobar los parciales, se requería aprobar un examen oral. Esta columna indica los resultados como *Aprobado* o *Desaprobado*, la celda está vacía si el alumno no se presentó.\n",
    "- **Grupo**: columna nominal, indica nombre de la comisión de la que se extrajeron los datos. Presenta los valores *G1* y *G7* para los registros correspondientes a *1er Semestre 2022*. En los otros casos no se consigna distinción por comisiones (comisión única), la celda está vacía.\n",
    "\n",
    "**NOTA 1: para la comisión del Verano 2020 no se registraron las notas de los alumnos Desaprobados**. Todas las columnas de Parciales están completadas con el valor 0, y las columnas de Flotantes están completadas con el valor -1."
   ]
  },
  {
   "cell_type": "markdown",
   "id": "a3b23efc-1880-45c3-8508-f39590c20e2a",
   "metadata": {},
   "source": [
    "**NOTA 2: para el análisis se reemplazarán los valores -1 correspondientes a ausentes por valores nulos (NaN)**."
   ]
  },
  {
   "cell_type": "code",
   "execution_count": 3,
   "id": "d1232d66-dc35-4501-ac8c-cdf932ed3b98",
   "metadata": {},
   "outputs": [],
   "source": [
    "# Reemplazo los valores -1 por registros nulos:\n",
    "mate_pi = mate_pi.replace(-1, np.nan)"
   ]
  },
  {
   "cell_type": "code",
   "execution_count": 4,
   "id": "9b117d7e-cb8c-42e3-bbf6-0424ac3cc361",
   "metadata": {},
   "outputs": [
    {
     "data": {
      "text/html": [
       "<div>\n",
       "<style scoped>\n",
       "    .dataframe tbody tr th:only-of-type {\n",
       "        vertical-align: middle;\n",
       "    }\n",
       "\n",
       "    .dataframe tbody tr th {\n",
       "        vertical-align: top;\n",
       "    }\n",
       "\n",
       "    .dataframe thead th {\n",
       "        text-align: right;\n",
       "    }\n",
       "</style>\n",
       "<table border=\"1\" class=\"dataframe\">\n",
       "  <thead>\n",
       "    <tr style=\"text-align: right;\">\n",
       "      <th></th>\n",
       "      <th>1P1F</th>\n",
       "      <th>1P2F</th>\n",
       "      <th>2P1F</th>\n",
       "      <th>2P2F</th>\n",
       "      <th>F1</th>\n",
       "      <th>F2</th>\n",
       "      <th>Condicion</th>\n",
       "      <th>Final</th>\n",
       "      <th>Año</th>\n",
       "      <th>Tipo_Cursada</th>\n",
       "      <th>Virtual</th>\n",
       "      <th>Oral</th>\n",
       "      <th>Grupo</th>\n",
       "    </tr>\n",
       "  </thead>\n",
       "  <tbody>\n",
       "    <tr>\n",
       "      <th>0</th>\n",
       "      <td>0.0</td>\n",
       "      <td>0.0</td>\n",
       "      <td>0.0</td>\n",
       "      <td>0.0</td>\n",
       "      <td>NaN</td>\n",
       "      <td>NaN</td>\n",
       "      <td>Desaprobado</td>\n",
       "      <td>0</td>\n",
       "      <td>2020</td>\n",
       "      <td>Verano</td>\n",
       "      <td>0</td>\n",
       "      <td>NaN</td>\n",
       "      <td>NaN</td>\n",
       "    </tr>\n",
       "    <tr>\n",
       "      <th>1</th>\n",
       "      <td>NaN</td>\n",
       "      <td>7.0</td>\n",
       "      <td>8.2</td>\n",
       "      <td>NaN</td>\n",
       "      <td>NaN</td>\n",
       "      <td>NaN</td>\n",
       "      <td>Promocionado</td>\n",
       "      <td>8</td>\n",
       "      <td>2020</td>\n",
       "      <td>Verano</td>\n",
       "      <td>0</td>\n",
       "      <td>NaN</td>\n",
       "      <td>NaN</td>\n",
       "    </tr>\n",
       "    <tr>\n",
       "      <th>2</th>\n",
       "      <td>0.0</td>\n",
       "      <td>0.0</td>\n",
       "      <td>0.0</td>\n",
       "      <td>0.0</td>\n",
       "      <td>NaN</td>\n",
       "      <td>NaN</td>\n",
       "      <td>Desaprobado</td>\n",
       "      <td>0</td>\n",
       "      <td>2020</td>\n",
       "      <td>Verano</td>\n",
       "      <td>0</td>\n",
       "      <td>NaN</td>\n",
       "      <td>NaN</td>\n",
       "    </tr>\n",
       "    <tr>\n",
       "      <th>3</th>\n",
       "      <td>0.0</td>\n",
       "      <td>0.0</td>\n",
       "      <td>0.0</td>\n",
       "      <td>0.0</td>\n",
       "      <td>NaN</td>\n",
       "      <td>NaN</td>\n",
       "      <td>Desaprobado</td>\n",
       "      <td>0</td>\n",
       "      <td>2020</td>\n",
       "      <td>Verano</td>\n",
       "      <td>0</td>\n",
       "      <td>NaN</td>\n",
       "      <td>NaN</td>\n",
       "    </tr>\n",
       "    <tr>\n",
       "      <th>4</th>\n",
       "      <td>NaN</td>\n",
       "      <td>NaN</td>\n",
       "      <td>NaN</td>\n",
       "      <td>NaN</td>\n",
       "      <td>NaN</td>\n",
       "      <td>NaN</td>\n",
       "      <td>Libre</td>\n",
       "      <td>0</td>\n",
       "      <td>2020</td>\n",
       "      <td>Verano</td>\n",
       "      <td>0</td>\n",
       "      <td>NaN</td>\n",
       "      <td>NaN</td>\n",
       "    </tr>\n",
       "  </tbody>\n",
       "</table>\n",
       "</div>"
      ],
      "text/plain": [
       "   1P1F  1P2F  2P1F  2P2F  F1  F2     Condicion  Final   Año Tipo_Cursada  \\\n",
       "0   0.0   0.0   0.0   0.0 NaN NaN   Desaprobado      0  2020       Verano   \n",
       "1   NaN   7.0   8.2   NaN NaN NaN  Promocionado      8  2020       Verano   \n",
       "2   0.0   0.0   0.0   0.0 NaN NaN   Desaprobado      0  2020       Verano   \n",
       "3   0.0   0.0   0.0   0.0 NaN NaN   Desaprobado      0  2020       Verano   \n",
       "4   NaN   NaN   NaN   NaN NaN NaN         Libre      0  2020       Verano   \n",
       "\n",
       "   Virtual Oral Grupo  \n",
       "0        0  NaN   NaN  \n",
       "1        0  NaN   NaN  \n",
       "2        0  NaN   NaN  \n",
       "3        0  NaN   NaN  \n",
       "4        0  NaN   NaN  "
      ]
     },
     "execution_count": 4,
     "metadata": {},
     "output_type": "execute_result"
    }
   ],
   "source": [
    "# Vista inicial del dataset\n",
    "mate_pi.head()"
   ]
  },
  {
   "cell_type": "code",
   "execution_count": 5,
   "id": "8f41533a-6c93-4726-bbb3-874286655c69",
   "metadata": {},
   "outputs": [
    {
     "name": "stdout",
     "output_type": "stream",
     "text": [
      "<class 'pandas.core.frame.DataFrame'>\n",
      "Index: 1222 entries, 0 to 1222\n",
      "Data columns (total 13 columns):\n",
      " #   Column        Non-Null Count  Dtype   \n",
      "---  ------        --------------  -----   \n",
      " 0   1P1F          806 non-null    float64 \n",
      " 1   1P2F          507 non-null    float64 \n",
      " 2   2P1F          595 non-null    float64 \n",
      " 3   2P2F          324 non-null    float64 \n",
      " 4   F1            80 non-null     float64 \n",
      " 5   F2            77 non-null     float64 \n",
      " 6   Condicion     1222 non-null   category\n",
      " 7   Final         1222 non-null   int64   \n",
      " 8   Año           1222 non-null   int64   \n",
      " 9   Tipo_Cursada  1222 non-null   category\n",
      " 10  Virtual       1222 non-null   int64   \n",
      " 11  Oral          89 non-null     object  \n",
      " 12  Grupo         214 non-null    object  \n",
      "dtypes: category(2), float64(6), int64(3), object(2)\n",
      "memory usage: 117.3+ KB\n"
     ]
    }
   ],
   "source": [
    "# Descripción general del dataset\n",
    "mate_pi.info()"
   ]
  },
  {
   "cell_type": "code",
   "execution_count": 6,
   "id": "ad8ae3fa-1bab-4264-a503-62dc5b2a4b85",
   "metadata": {},
   "outputs": [
    {
     "data": {
      "text/plain": [
       "array([2020, 2021, 2022, 2023, 2024, 2025])"
      ]
     },
     "execution_count": 6,
     "metadata": {},
     "output_type": "execute_result"
    }
   ],
   "source": [
    "# Años de los cursos registrados\n",
    "mate_pi[\"Año\"].unique()"
   ]
  },
  {
   "cell_type": "markdown",
   "id": "e4f22715-44ba-49df-8c9d-451c3ed5db62",
   "metadata": {},
   "source": [
    "## Distribución de datos por categorías: Año, Tipo de Cursada, Condición"
   ]
  },
  {
   "cell_type": "markdown",
   "id": "49d8bc8f-77a5-4d33-aaa5-c1c634159ec1",
   "metadata": {},
   "source": [
    "Además de las notas obtenidas por cada estudiante, identificamos las siguientes categorías de interés:\n",
    "\n",
    "- `Condicion`: si el alumno resultó Promocionado, Desaprobado o Libre.\n",
    "- `Año`: en qué año realizó la cursada, entre 2020 y 2025\n",
    "- `Tipo_Cursada`: si cursó en modalidad Verano, 1er Semestre o Anticipada.\n",
    "\n",
    "Vamos a revisar la distribución de los datos según estas categorías."
   ]
  },
  {
   "cell_type": "markdown",
   "id": "9bf4db3f-e026-48bd-b60a-9527c9a25ad6",
   "metadata": {},
   "source": [
    "### Distribución de datos por Año y por Cursada"
   ]
  },
  {
   "cell_type": "markdown",
   "id": "fc53d332-e4e9-4e26-9e1b-e62efa646337",
   "metadata": {},
   "source": [
    "Nos interesa analizar **cuántos alumnos (en promedio) se inscriben en cada modalidad cada año**.\n",
    "\n",
    "Para ello, analicemos la distribución de los datos y calculemos el promedio buscado."
   ]
  },
  {
   "cell_type": "code",
   "execution_count": 7,
   "id": "40a9b7ec-fe28-464e-bf8b-17f87d3ee4f7",
   "metadata": {},
   "outputs": [
    {
     "data": {
      "image/png": "[encoded data removed]",
      "text/plain": [
       "<Figure size 640x480 with 1 Axes>"
      ]
     },
     "metadata": {},
     "output_type": "display_data"
    }
   ],
   "source": [
    "# Cantidad de alumnos por Año y Cursada\n",
    "sns.countplot(\n",
    "    data=mate_pi,\n",
    "    x=\"Tipo_Cursada\",\n",
    "    hue=\"Año\",\n",
    "    palette=\"deep\"\n",
    ")\n",
    "plt.title(\"Cantidad total de alumnos por Cursada y por Año\")\n",
    "plt.ylabel(\"\")\n",
    "plt.xlabel(\"\")\n",
    "plt.show()"
   ]
  },
  {
   "cell_type": "code",
   "execution_count": 8,
   "id": "56edda92-4309-410a-9e8a-54d497817307",
   "metadata": {},
   "outputs": [
    {
     "data": {
      "text/html": [
       "<div>\n",
       "<style scoped>\n",
       "    .dataframe tbody tr th:only-of-type {\n",
       "        vertical-align: middle;\n",
       "    }\n",
       "\n",
       "    .dataframe tbody tr th {\n",
       "        vertical-align: top;\n",
       "    }\n",
       "\n",
       "    .dataframe thead th {\n",
       "        text-align: right;\n",
       "    }\n",
       "</style>\n",
       "<table border=\"1\" class=\"dataframe\">\n",
       "  <thead>\n",
       "    <tr style=\"text-align: right;\">\n",
       "      <th>Tipo_Cursada</th>\n",
       "      <th>Verano</th>\n",
       "      <th>1er Semestre</th>\n",
       "      <th>Anticipada</th>\n",
       "      <th>Total</th>\n",
       "    </tr>\n",
       "    <tr>\n",
       "      <th>Año</th>\n",
       "      <th></th>\n",
       "      <th></th>\n",
       "      <th></th>\n",
       "      <th></th>\n",
       "    </tr>\n",
       "  </thead>\n",
       "  <tbody>\n",
       "    <tr>\n",
       "      <th>2020</th>\n",
       "      <td>108</td>\n",
       "      <td>0</td>\n",
       "      <td>92</td>\n",
       "      <td>200</td>\n",
       "    </tr>\n",
       "    <tr>\n",
       "      <th>2021</th>\n",
       "      <td>0</td>\n",
       "      <td>0</td>\n",
       "      <td>95</td>\n",
       "      <td>95</td>\n",
       "    </tr>\n",
       "    <tr>\n",
       "      <th>2022</th>\n",
       "      <td>110</td>\n",
       "      <td>214</td>\n",
       "      <td>71</td>\n",
       "      <td>395</td>\n",
       "    </tr>\n",
       "    <tr>\n",
       "      <th>2023</th>\n",
       "      <td>0</td>\n",
       "      <td>86</td>\n",
       "      <td>72</td>\n",
       "      <td>158</td>\n",
       "    </tr>\n",
       "    <tr>\n",
       "      <th>2024</th>\n",
       "      <td>98</td>\n",
       "      <td>99</td>\n",
       "      <td>98</td>\n",
       "      <td>295</td>\n",
       "    </tr>\n",
       "    <tr>\n",
       "      <th>2025</th>\n",
       "      <td>0</td>\n",
       "      <td>79</td>\n",
       "      <td>0</td>\n",
       "      <td>79</td>\n",
       "    </tr>\n",
       "    <tr>\n",
       "      <th>Total</th>\n",
       "      <td>316</td>\n",
       "      <td>478</td>\n",
       "      <td>428</td>\n",
       "      <td>1222</td>\n",
       "    </tr>\n",
       "  </tbody>\n",
       "</table>\n",
       "</div>"
      ],
      "text/plain": [
       "Tipo_Cursada  Verano  1er Semestre  Anticipada  Total\n",
       "Año                                                  \n",
       "2020             108             0          92    200\n",
       "2021               0             0          95     95\n",
       "2022             110           214          71    395\n",
       "2023               0            86          72    158\n",
       "2024              98            99          98    295\n",
       "2025               0            79           0     79\n",
       "Total            316           478         428   1222"
      ]
     },
     "execution_count": 8,
     "metadata": {},
     "output_type": "execute_result"
    }
   ],
   "source": [
    "# Creo una tabla para visualizar cantidad de alumnos por Cursada cada año\n",
    "tabla_alumnos = pd.crosstab(mate_pi[\"Año\"], mate_pi[\"Tipo_Cursada\"], margins=True, margins_name=\"Total\")\n",
    "tabla_alumnos"
   ]
  },
  {
   "cell_type": "code",
   "execution_count": 9,
   "id": "8e723d9e-5227-48c1-921c-b84f715ead89",
   "metadata": {},
   "outputs": [
    {
     "data": {
      "text/plain": [
       "Tipo_Cursada\n",
       "Verano          105.333333\n",
       "1er Semestre    119.500000\n",
       "Anticipada       85.600000\n",
       "dtype: float64"
      ]
     },
     "execution_count": 9,
     "metadata": {},
     "output_type": "execute_result"
    }
   ],
   "source": [
    "# Calculo cantidad anual promedio de alumnos promocionados por Cursada:\n",
    "# Voy a rehacer la tabla para que no contenga las sumas parciales:\n",
    "tabla_alumnos = pd.crosstab(mate_pi[\"Año\"], mate_pi[\"Tipo_Cursada\"], margins=False)\n",
    "tabla_alumnos.replace(0, np.nan).mean()"
   ]
  },
  {
   "cell_type": "markdown",
   "id": "a959b230-1918-4c50-8d72-75a786254a73",
   "metadata": {},
   "source": [
    "----------\n",
    "\n",
    "Notamos que:\n",
    "\n",
    "- **Faltan registros de los cursos: 1er Semestre 2020 y 2021, Verano 2021, 2023 y 2025.**\n",
    "- La cantidad de registros correspondientes a 1er Semestre y Anticipada son similares.\n",
    "- **En el 1er Semestre 2022 se tienen valores muy alejados del promedio**. Esto se debe a que en la base de datos hay dos comisiones distintas para ese curso: G7 y G12. \n",
    "\n",
    "**Tomaremos como valor representativo de 1er Semestre 2022 al promedio de las dos comisiones**, en este caso, 107 alumnos."
   ]
  },
  {
   "cell_type": "code",
   "execution_count": 10,
   "id": "da44ed88-102a-445f-9d36-e0ae28130036",
   "metadata": {},
   "outputs": [
    {
     "data": {
      "text/html": [
       "<div>\n",
       "<style scoped>\n",
       "    .dataframe tbody tr th:only-of-type {\n",
       "        vertical-align: middle;\n",
       "    }\n",
       "\n",
       "    .dataframe tbody tr th {\n",
       "        vertical-align: top;\n",
       "    }\n",
       "\n",
       "    .dataframe thead th {\n",
       "        text-align: right;\n",
       "    }\n",
       "</style>\n",
       "<table border=\"1\" class=\"dataframe\">\n",
       "  <thead>\n",
       "    <tr style=\"text-align: right;\">\n",
       "      <th>Tipo_Cursada</th>\n",
       "      <th>Verano</th>\n",
       "      <th>1er Semestre</th>\n",
       "      <th>Anticipada</th>\n",
       "    </tr>\n",
       "    <tr>\n",
       "      <th>Año</th>\n",
       "      <th></th>\n",
       "      <th></th>\n",
       "      <th></th>\n",
       "    </tr>\n",
       "  </thead>\n",
       "  <tbody>\n",
       "    <tr>\n",
       "      <th>2020</th>\n",
       "      <td>108</td>\n",
       "      <td>0</td>\n",
       "      <td>92</td>\n",
       "    </tr>\n",
       "    <tr>\n",
       "      <th>2021</th>\n",
       "      <td>0</td>\n",
       "      <td>0</td>\n",
       "      <td>95</td>\n",
       "    </tr>\n",
       "    <tr>\n",
       "      <th>2022</th>\n",
       "      <td>110</td>\n",
       "      <td>107</td>\n",
       "      <td>71</td>\n",
       "    </tr>\n",
       "    <tr>\n",
       "      <th>2023</th>\n",
       "      <td>0</td>\n",
       "      <td>86</td>\n",
       "      <td>72</td>\n",
       "    </tr>\n",
       "    <tr>\n",
       "      <th>2024</th>\n",
       "      <td>98</td>\n",
       "      <td>99</td>\n",
       "      <td>98</td>\n",
       "    </tr>\n",
       "    <tr>\n",
       "      <th>2025</th>\n",
       "      <td>0</td>\n",
       "      <td>79</td>\n",
       "      <td>0</td>\n",
       "    </tr>\n",
       "  </tbody>\n",
       "</table>\n",
       "</div>"
      ],
      "text/plain": [
       "Tipo_Cursada  Verano  1er Semestre  Anticipada\n",
       "Año                                           \n",
       "2020             108             0          92\n",
       "2021               0             0          95\n",
       "2022             110           107          71\n",
       "2023               0            86          72\n",
       "2024              98            99          98\n",
       "2025               0            79           0"
      ]
     },
     "execution_count": 10,
     "metadata": {},
     "output_type": "execute_result"
    }
   ],
   "source": [
    "# Corrijo la tabla de cantidad de alumnos con el promedio para 1er Semestre 2022.\n",
    "tabla_alumnos.loc[2022, \"1er Semestre\"] = 214/2\n",
    "\n",
    "tabla_alumnos"
   ]
  },
  {
   "cell_type": "code",
   "execution_count": 11,
   "id": "ada060a1-c761-4ada-a9a1-ce092edc71a4",
   "metadata": {},
   "outputs": [
    {
     "data": {
      "image/png": "[encoded data removed]",
      "text/plain": [
       "<Figure size 640x480 with 1 Axes>"
      ]
     },
     "metadata": {},
     "output_type": "display_data"
    }
   ],
   "source": [
    "# Visualizo la cantidad de alumnos por Tipo de Cursada, con la tabla corregida:\n",
    "sns.boxplot(data=tabla_alumnos.replace(0, np.nan))\n",
    "plt.title(\"Cantidad de alumnos inscriptos por comisión\")\n",
    "plt.xlabel(\"\")\n",
    "plt.show()"
   ]
  },
  {
   "cell_type": "code",
   "execution_count": 12,
   "id": "678cfa0e-0665-4cb2-803d-10666508910a",
   "metadata": {},
   "outputs": [
    {
     "data": {
      "text/html": [
       "<div>\n",
       "<style scoped>\n",
       "    .dataframe tbody tr th:only-of-type {\n",
       "        vertical-align: middle;\n",
       "    }\n",
       "\n",
       "    .dataframe tbody tr th {\n",
       "        vertical-align: top;\n",
       "    }\n",
       "\n",
       "    .dataframe thead th {\n",
       "        text-align: right;\n",
       "    }\n",
       "</style>\n",
       "<table border=\"1\" class=\"dataframe\">\n",
       "  <thead>\n",
       "    <tr style=\"text-align: right;\">\n",
       "      <th>Tipo_Cursada</th>\n",
       "      <th>Verano</th>\n",
       "      <th>1er Semestre</th>\n",
       "      <th>Anticipada</th>\n",
       "    </tr>\n",
       "  </thead>\n",
       "  <tbody>\n",
       "    <tr>\n",
       "      <th>mean</th>\n",
       "      <td>105.333333</td>\n",
       "      <td>92.750000</td>\n",
       "      <td>85.600000</td>\n",
       "    </tr>\n",
       "    <tr>\n",
       "      <th>std</th>\n",
       "      <td>6.429101</td>\n",
       "      <td>12.606215</td>\n",
       "      <td>13.049904</td>\n",
       "    </tr>\n",
       "    <tr>\n",
       "      <th>median</th>\n",
       "      <td>108.000000</td>\n",
       "      <td>92.500000</td>\n",
       "      <td>92.000000</td>\n",
       "    </tr>\n",
       "  </tbody>\n",
       "</table>\n",
       "</div>"
      ],
      "text/plain": [
       "Tipo_Cursada      Verano  1er Semestre  Anticipada\n",
       "mean          105.333333     92.750000   85.600000\n",
       "std             6.429101     12.606215   13.049904\n",
       "median        108.000000     92.500000   92.000000"
      ]
     },
     "execution_count": 12,
     "metadata": {},
     "output_type": "execute_result"
    }
   ],
   "source": [
    "# Calculo promedios, mediana, desviación estándar\n",
    "tabla_alumnos.replace(0,np.nan).agg([\"mean\", \"std\", \"median\"])"
   ]
  },
  {
   "cell_type": "markdown",
   "id": "2b365274-05cd-415c-85a1-c2c02aeaaf56",
   "metadata": {},
   "source": [
    "Podemos notar que, si bien la Anticipada muestra una mayor dispersión, la mediana de inscriptos anuales es similar a la del 1er Semestre. Ambos cursos se dictan durante el año. **La opción predilecta de cursada es la modalidad Verano**, un curso intensivo que se dicta entre enero y febrero, y **que presenta un promedio de 105 inscriptos por comisión**. "
   ]
  },
  {
   "cell_type": "markdown",
   "id": "cd70a905-f460-410d-bae6-a5343eb80ff9",
   "metadata": {},
   "source": [
    "### Distribución de datos por Condición"
   ]
  },
  {
   "cell_type": "markdown",
   "id": "a16ebd08-dbaa-4848-8797-b9b3f8451b8e",
   "metadata": {},
   "source": [
    "Nos interesa analizar **qué proporción de alumnos inscriptos logra Promocionar, son Desaprobados o quedan Libres**. A su vez, podemos desglosar el desempeño según cursada y estudiar esa distribución."
   ]
  },
  {
   "cell_type": "code",
   "execution_count": 13,
   "id": "a3cd7a36-5710-4e22-bdca-c9c3b9769a40",
   "metadata": {},
   "outputs": [
    {
     "data": {
      "image/png": "[encoded data removed]",
      "text/plain": [
       "<Figure size 500x500 with 1 Axes>"
      ]
     },
     "metadata": {},
     "output_type": "display_data"
    }
   ],
   "source": [
    "# Realizo un gráfico de distribución segun Condicion\n",
    "sns.catplot(\n",
    "    data=mate_pi,\n",
    "    x=\"Condicion\",\n",
    "    hue=\"Condicion\",\n",
    "    kind=\"count\",\n",
    "    palette=colores_cond,\n",
    "#   alpha=0.8,\n",
    "    stat=\"percent\"\n",
    "    )\n",
    "plt.title(\"Desempeño general\")\n",
    "plt.ylabel(\"Porcentaje\")\n",
    "plt.xlabel(\"\")\n",
    "plt.show()"
   ]
  },
  {
   "cell_type": "code",
   "execution_count": 14,
   "id": "be6eee41-4063-4866-96ee-6a2ee09c382b",
   "metadata": {},
   "outputs": [
    {
     "data": {
      "text/plain": [
       "Condicion\n",
       "Abandonó        28.8\n",
       "Promocionado    28.3\n",
       "Libre           26.0\n",
       "Desaprobado     16.9\n",
       "Name: proportion, dtype: float64"
      ]
     },
     "execution_count": 14,
     "metadata": {},
     "output_type": "execute_result"
    }
   ],
   "source": [
    "# Construyo una tabla con los resultados del gráfico:\n",
    "matepi_global = mate_pi[\"Condicion\"].value_counts(normalize=True).round(3) *100\n",
    "matepi_global"
   ]
  },
  {
   "cell_type": "markdown",
   "id": "bfb2c5f8-3980-431d-8df4-23b73a27ff73",
   "metadata": {},
   "source": [
    "Sobre el total de la base de datos, encontramos que:\n",
    "\n",
    "- **el 28% de los alumnos Promocionaron**: lograron aprobar la materia\n",
    "- **el 26% de los alumnos quedó Libre**: no rindieron ningún parcial\n",
    "- **el 29% de los alumnos Abandonó**: no agotaron las instancias de parciales\n",
    "- **el 17% de los alumnos Desaprobó**: no lograron aprobar la materia luego de rendir todas las instancias."
   ]
  },
  {
   "cell_type": "markdown",
   "id": "76b68e41-8371-43ad-9621-cf92e52ef47d",
   "metadata": {},
   "source": [
    "----------\n",
    "\n",
    "También podemos analizar la evolución del **desempeño global de los estudiantes en cada año**:"
   ]
  },
  {
   "cell_type": "code",
   "execution_count": 15,
   "id": "a7ffd149-1c48-4860-8eb8-a6ba7471ade7",
   "metadata": {},
   "outputs": [],
   "source": [
    "# Creo cada columna de la tabla manualmente:\n",
    "# Dataframe: cantidad de alumnos por año\n",
    "cant_por_ano = pd.DataFrame(data=mate_pi[\"Año\"].value_counts().sort_index())\n",
    "cant_por_ano.rename(columns={\"count\":\"Cant. de alumnos\"}, inplace=True)\n",
    "\n",
    "\n",
    "# DataFrame: Cantidad de Promo., Libre, Desap. Abandono\n",
    "tabla = pd.crosstab(mate_pi[\"Año\"], mate_pi[\"Condicion\"]).reset_index()\n",
    "\n",
    "# DataFrame: merge de columna \"Cant. de alumnos\" en tabla\n",
    "tabla = tabla.merge(\n",
    "    right=cant_por_ano,\n",
    "    how=\"left\",\n",
    "    left_on=\"Año\",\n",
    "    right_index=True\n",
    ")\n",
    "\n",
    "# Convierto los conteos en porcentajes:\n",
    "for col in [\"Libre\", \"Abandonó\", \"Desaprobado\", \"Promocionado\"]:\n",
    "    tabla[col] = tabla[col].astype(\"float\")    # Asigno tipo de dato adecuado \n",
    "    tabla.loc[:, col] = (tabla.loc[:, col] / tabla.loc[:, \"Cant. de alumnos\"]) * 100\n",
    "    tabla[col] = tabla[col].round(2)\n",
    "\n",
    "# Calculo promedios de promocionados por año:\n",
    "prom_por_ano = pd.DataFrame(data=mate_pi.replace(0, np.nan).groupby(\"Año\")[\"Final\"].mean().sort_index())\n",
    "\n",
    "# Agrego columna de promedios en tabla\n",
    "tabla = tabla.merge(\n",
    "    right=prom_por_ano,\n",
    "    how=\"left\",\n",
    "    left_on=\"Año\",\n",
    "    right_index=True\n",
    ")\n",
    "\n",
    "# Modifico nombre de columnas:\n",
    "new_cols = {\n",
    "    \"Libre\" : \"Libre (%)\",\n",
    "    \"Abandonó\" : \"Abandonó (%)\",\n",
    "    \"Desaprobado\" : \"Desaprobado (%)\",\n",
    "    \"Promocionado\" : \"Promocionado (%)\",\n",
    "    \"Final\" : \"Nota Promedio\"\n",
    "}\n",
    "tabla = tabla.rename( columns = new_cols )\n",
    "tabla[\"Nota Promedio\"] = tabla[\"Nota Promedio\"].round(2)"
   ]
  },
  {
   "cell_type": "code",
   "execution_count": 16,
   "id": "76a2e18e-24b1-4ddf-abdd-62ee74ea0d6f",
   "metadata": {},
   "outputs": [
    {
     "data": {
      "text/html": [
       "<div>\n",
       "<style scoped>\n",
       "    .dataframe tbody tr th:only-of-type {\n",
       "        vertical-align: middle;\n",
       "    }\n",
       "\n",
       "    .dataframe tbody tr th {\n",
       "        vertical-align: top;\n",
       "    }\n",
       "\n",
       "    .dataframe thead th {\n",
       "        text-align: right;\n",
       "    }\n",
       "</style>\n",
       "<table border=\"1\" class=\"dataframe\">\n",
       "  <thead>\n",
       "    <tr style=\"text-align: right;\">\n",
       "      <th></th>\n",
       "      <th>Año</th>\n",
       "      <th>Libre (%)</th>\n",
       "      <th>Abandonó (%)</th>\n",
       "      <th>Desaprobado (%)</th>\n",
       "      <th>Promocionado (%)</th>\n",
       "      <th>Cant. de alumnos</th>\n",
       "      <th>Nota Promedio</th>\n",
       "    </tr>\n",
       "  </thead>\n",
       "  <tbody>\n",
       "    <tr>\n",
       "      <th>0</th>\n",
       "      <td>2020</td>\n",
       "      <td>17.50</td>\n",
       "      <td>23.00</td>\n",
       "      <td>13.50</td>\n",
       "      <td>46.00</td>\n",
       "      <td>200</td>\n",
       "      <td>7.72</td>\n",
       "    </tr>\n",
       "    <tr>\n",
       "      <th>1</th>\n",
       "      <td>2021</td>\n",
       "      <td>30.53</td>\n",
       "      <td>27.37</td>\n",
       "      <td>17.89</td>\n",
       "      <td>24.21</td>\n",
       "      <td>95</td>\n",
       "      <td>7.48</td>\n",
       "    </tr>\n",
       "    <tr>\n",
       "      <th>2</th>\n",
       "      <td>2022</td>\n",
       "      <td>32.91</td>\n",
       "      <td>28.86</td>\n",
       "      <td>15.44</td>\n",
       "      <td>22.78</td>\n",
       "      <td>395</td>\n",
       "      <td>6.93</td>\n",
       "    </tr>\n",
       "    <tr>\n",
       "      <th>3</th>\n",
       "      <td>2023</td>\n",
       "      <td>29.75</td>\n",
       "      <td>34.18</td>\n",
       "      <td>18.99</td>\n",
       "      <td>17.09</td>\n",
       "      <td>158</td>\n",
       "      <td>6.85</td>\n",
       "    </tr>\n",
       "    <tr>\n",
       "      <th>4</th>\n",
       "      <td>2024</td>\n",
       "      <td>21.02</td>\n",
       "      <td>29.15</td>\n",
       "      <td>18.98</td>\n",
       "      <td>30.85</td>\n",
       "      <td>295</td>\n",
       "      <td>7.33</td>\n",
       "    </tr>\n",
       "    <tr>\n",
       "      <th>5</th>\n",
       "      <td>2025</td>\n",
       "      <td>18.99</td>\n",
       "      <td>32.91</td>\n",
       "      <td>18.99</td>\n",
       "      <td>29.11</td>\n",
       "      <td>79</td>\n",
       "      <td>6.61</td>\n",
       "    </tr>\n",
       "  </tbody>\n",
       "</table>\n",
       "</div>"
      ],
      "text/plain": [
       "    Año  Libre (%)  Abandonó (%)  Desaprobado (%)  Promocionado (%)  \\\n",
       "0  2020      17.50         23.00            13.50             46.00   \n",
       "1  2021      30.53         27.37            17.89             24.21   \n",
       "2  2022      32.91         28.86            15.44             22.78   \n",
       "3  2023      29.75         34.18            18.99             17.09   \n",
       "4  2024      21.02         29.15            18.98             30.85   \n",
       "5  2025      18.99         32.91            18.99             29.11   \n",
       "\n",
       "   Cant. de alumnos  Nota Promedio  \n",
       "0               200           7.72  \n",
       "1                95           7.48  \n",
       "2               395           6.93  \n",
       "3               158           6.85  \n",
       "4               295           7.33  \n",
       "5                79           6.61  "
      ]
     },
     "execution_count": 16,
     "metadata": {},
     "output_type": "execute_result"
    }
   ],
   "source": [
    "# Visualizo los resultados como tabla\n",
    "tabla"
   ]
  },
  {
   "cell_type": "code",
   "execution_count": 17,
   "id": "d7e1b43f-a0fd-4190-a2c7-46915881f35c",
   "metadata": {},
   "outputs": [
    {
     "data": {
      "image/png": "[encoded data removed]",
      "text/plain": [
       "<Figure size 640x480 with 1 Axes>"
      ]
     },
     "metadata": {},
     "output_type": "display_data"
    }
   ],
   "source": [
    "# Visualizo los resultados como gráfica\n",
    "tabla.drop(columns=[\"Cant. de alumnos\", \"Nota Promedio\"]).plot(x=\"Año\",\n",
    "                                                               kind=\"bar\",\n",
    "                                                               stacked=True,\n",
    "                                                               color=colores_cond )\n",
    "plt.legend(bbox_to_anchor=(1,1))\n",
    "plt.title(\"Desempeño general por año\")\n",
    "plt.ylabel(\"Porcentaje\")\n",
    "plt.xlabel(\"\")\n",
    "plt.xticks(rotation=0)\n",
    "plt.show()"
   ]
  },
  {
   "cell_type": "code",
   "execution_count": 18,
   "id": "5e36c26b-61be-4800-b6a1-6b95b4e1ebc0",
   "metadata": {},
   "outputs": [
    {
     "data": {
      "text/html": [
       "<div>\n",
       "<style scoped>\n",
       "    .dataframe tbody tr th:only-of-type {\n",
       "        vertical-align: middle;\n",
       "    }\n",
       "\n",
       "    .dataframe tbody tr th {\n",
       "        vertical-align: top;\n",
       "    }\n",
       "\n",
       "    .dataframe thead th {\n",
       "        text-align: right;\n",
       "    }\n",
       "</style>\n",
       "<table border=\"1\" class=\"dataframe\">\n",
       "  <thead>\n",
       "    <tr style=\"text-align: right;\">\n",
       "      <th></th>\n",
       "      <th>Libre (%)</th>\n",
       "      <th>Abandonó (%)</th>\n",
       "      <th>Desaprobado (%)</th>\n",
       "      <th>Promocionado (%)</th>\n",
       "      <th>Nota Promedio</th>\n",
       "    </tr>\n",
       "  </thead>\n",
       "  <tbody>\n",
       "    <tr>\n",
       "      <th>mean</th>\n",
       "      <td>25.116667</td>\n",
       "      <td>29.245000</td>\n",
       "      <td>17.298333</td>\n",
       "      <td>28.340000</td>\n",
       "      <td>7.153333</td>\n",
       "    </tr>\n",
       "    <tr>\n",
       "      <th>std</th>\n",
       "      <td>6.107923</td>\n",
       "      <td>3.661952</td>\n",
       "      <td>2.112750</td>\n",
       "      <td>9.067355</td>\n",
       "      <td>0.386465</td>\n",
       "    </tr>\n",
       "  </tbody>\n",
       "</table>\n",
       "</div>"
      ],
      "text/plain": [
       "      Libre (%)  Abandonó (%)  Desaprobado (%)  Promocionado (%)  \\\n",
       "mean  25.116667     29.245000        17.298333         28.340000   \n",
       "std    6.107923      3.661952         2.112750          9.067355   \n",
       "\n",
       "      Nota Promedio  \n",
       "mean       7.153333  \n",
       "std        0.386465  "
      ]
     },
     "execution_count": 18,
     "metadata": {},
     "output_type": "execute_result"
    }
   ],
   "source": [
    "# Reporto promedios y desviacion estandar de cada columna:\n",
    "columnas = [\"Libre (%)\", \"Abandonó (%)\", \"Desaprobado (%)\", \"Promocionado (%)\", \"Nota Promedio\"]\n",
    "tabla[columnas].apply([np.mean, np.std])"
   ]
  },
  {
   "cell_type": "markdown",
   "id": "b0bc3ef9-2cb8-4aca-aded-6f76ad57f171",
   "metadata": {},
   "source": [
    "Podemos extraer **algunas conclusiones respecto al desempeño global de los estudiantes cada año**:\n",
    "\n",
    "- **Los promocionados obtienen en promedio una nota de 7**, con una dispersión pequeña respecto al promedio, reportando una desviación estándar de 0.39.\n",
    "- De manera similar, la cantidad de Desaprobados y de Abandonó también se encuentran concentradas en torno a sus valores promedio de 17% y 29% respectivamente.\n",
    "- **Los porcentajes de Promocionado y Libre muestran las mayores dispersiones**, observando desviaciones estándar de 9.07 y 6.11 respectivamente.\n",
    "\n",
    "Será interesante analizar si esas **variaciones en porcentajes de Promocionado y Libre responden a alguna tendencia particular en el tiempo**:"
   ]
  },
  {
   "cell_type": "code",
   "execution_count": 19,
   "id": "6e219256-2145-4f2c-a279-c7386fbc78c7",
   "metadata": {},
   "outputs": [
    {
     "data": {
      "image/png": "[encoded data removed]",
      "text/plain": [
       "<Figure size 665.25x500 with 1 Axes>"
      ]
     },
     "metadata": {},
     "output_type": "display_data"
    }
   ],
   "source": [
    "# Realizo un gráfico para mostrar la evolución de Promocionados y Libres en el tiempo\n",
    "subset_table = tabla[[\"Año\", \"Libre (%)\", \"Promocionado (%)\"]].set_index(\"Año\")\n",
    "sns.relplot( subset_table, \n",
    "             kind=\"line\", \n",
    "             marker=\"o\",\n",
    "             palette=[colores_cond_dict[\"Libre\"], colores_cond_dict[\"Promocionado\"]], \n",
    "             dashes=False )\n",
    "plt.ylabel(\"Porcentaje\")\n",
    "plt.title(\"Evolución general de Promocionados y Libres\")\n",
    "plt.show()"
   ]
  },
  {
   "cell_type": "markdown",
   "id": "76455010-eef4-4960-bf0f-ff50e18f946b",
   "metadata": {},
   "source": [
    "Si bien no puede observarse una tendencia clara para los datos presentes, cabe destacar la correlación entre variaciones de Promocionados y variaciones de Libres: **a mayor proporción de Libres, menor cantidad de Promocionados y viceversa**. Siendo que los alumnos libres son los que abandonaron la materia sin presentarse a rendir ningún parcial, se evidencia que **fomentar la retención temprana de los alumnos se condice con mejores índices de aprobación**, al menos para la muestra considerada en este estudio. \n",
    "    "
   ]
  },
  {
   "cell_type": "markdown",
   "id": "73de650d-fa21-4776-887f-6d8a3242d212",
   "metadata": {},
   "source": [
    "### Desempeño de cada curso registrado cada año"
   ]
  },
  {
   "cell_type": "markdown",
   "id": "cd31b4e0-541c-4d8f-9c7a-4c3f47cc6322",
   "metadata": {},
   "source": [
    "Si bien ya vimos que faltan algunos cursos por registrar, podemos condensar **todos los resultados obtenidos en cada uno de los cursos presentes en la base de datos en un gráfico completo**:"
   ]
  },
  {
   "cell_type": "code",
   "execution_count": 20,
   "id": "1f53bbfb-bb5c-4c56-974c-60196e422f70",
   "metadata": {},
   "outputs": [],
   "source": [
    "# Creo una funcion para filtrar los datos por Año, Tipo_Cursada\n",
    "def filtered_data(data, año, tipo_cursada):\n",
    "    \"\"\"\n",
    "    Parameters\n",
    "    ----------\n",
    "    data : pandas DataFrame\n",
    "    año : int\n",
    "        Year to filter, from 2020 to 2025\n",
    "    tipo_cursada : str\n",
    "        Options: Verano, Anticipada, 1er Semestre\n",
    "        \n",
    "    Returns\n",
    "    -------\n",
    "    pandas DataFrame\n",
    "    \"\"\"\n",
    "    return data[ (data[\"Año\"] == año) & (data[\"Tipo_Cursada\"] == tipo_cursada)]"
   ]
  },
  {
   "cell_type": "code",
   "execution_count": 21,
   "id": "bfbd035a-1ec7-41dd-a7ae-5ca2ac2241f3",
   "metadata": {},
   "outputs": [
    {
     "data": {
      "image/png": "[encoded data removed]",
      "text/plain": [
       "<Figure size 2000x1000 with 18 Axes>"
      ]
     },
     "metadata": {},
     "output_type": "display_data"
    }
   ],
   "source": [
    "# Calculo los porcentajes de cada curso y los grafico:\n",
    "ano_0 = mate_pi[\"Año\"].min()\n",
    "ano_f = mate_pi[\"Año\"].max()\n",
    "años = range(ano_0,ano_f+1,1)\n",
    "cursadas = [\"Verano\", \"1er Semestre\", \"Anticipada\"]\n",
    "\n",
    "fig, axs = plt.subplots(nrows = len(cursadas), ncols = len(años), figsize=(20,10), sharex=True, sharey=True)\n",
    "\n",
    "for año in range(len(años)):\n",
    "    for cursada in range(len(cursadas)):\n",
    "        sns.countplot(\n",
    "            data=filtered_data(mate_pi, años[año], cursadas[cursada]),\n",
    "            x=\"Condicion\",\n",
    "            hue=\"Condicion\",\n",
    "            palette=colores_cond,\n",
    "            #alpha=0.8,\n",
    "            stat=\"percent\",\n",
    "            legend=False,\n",
    "            ax=axs[cursada, año]\n",
    "        )\n",
    "        axs[cursada, año].set_title(f\"{cursadas[cursada]} | {años[año]}\", size=10)\n",
    "        axs[cursada, año].tick_params(axis=\"x\", size=7,rotation=45)\n",
    "        axs[cursada, año].set_xlabel(\"\")\n",
    "        axs[cursada, año].set_ylabel(\"\")\n",
    "\n",
    "plt.suptitle(\"Desempeño de cada curso en porcentajes\", fontsize=20)\n",
    "plt.show()"
   ]
  },
  {
   "cell_type": "markdown",
   "id": "93e571b3-275a-4d86-a337-5d7ec8596f95",
   "metadata": {},
   "source": [
    "En el gráfico anterior puede visualizarse el **desempeño de cada curso registrado en el dataset**. Podemos notar que **cada curso tiene sus particularidades**:\n",
    "\n",
    "- **Durante el 2020 y el 2021, los cursos se vieron afectados por la pandemia de COVID**. Eso podría explicar la exagerada proporción de Promocionados en el curso de Anticipada 2020.\n",
    "- Sólo se disponen de datos sobre 3 de los cursos del Verano, es un muestreo bajo como para detectar una tendencia.\n",
    "- Los cursos disponibles de 1er Semestre parecen bastante regulares respecto a cantidad de Promocionados.\n",
    "- De igual manera, podría detectarse alguna tendencia en los cursos de Anticipada, considerando lo dicho respecto al año 2020, y también teniendo en cuenta que el curso 2023 se trató de un turno nocturno que no volvió a dictarse por baja concurrencia."
   ]
  },
  {
   "cell_type": "markdown",
   "id": "bc53f2fa-fcf6-43dd-8e3f-6313bc716d6e",
   "metadata": {},
   "source": [
    "## Distribución de datos por Nota Final"
   ]
  },
  {
   "cell_type": "markdown",
   "id": "53206ee6-d344-4fca-9360-ba1cb8361b7c",
   "metadata": {},
   "source": [
    "Habiendo analizado el desempeño general de los estudiantes del curso, **podemos realizar un perfil de los alumnos promocionados analizando las notas que obtuvieron al finalizar el curso**. Notemos que la materia se promociona necesariamente con nota mínima de 6: **no se consigna ninguna nota numérica a quienes no alcanzan la Promoción**. "
   ]
  },
  {
   "cell_type": "code",
   "execution_count": 22,
   "id": "1164407c-5408-4eaf-bad4-6ea722c160e0",
   "metadata": {},
   "outputs": [
    {
     "name": "stdout",
     "output_type": "stream",
     "text": [
      "<class 'pandas.core.frame.DataFrame'>\n",
      "Index: 346 entries, 1 to 1219\n",
      "Data columns (total 13 columns):\n",
      " #   Column        Non-Null Count  Dtype   \n",
      "---  ------        --------------  -----   \n",
      " 0   1P1F          317 non-null    float64 \n",
      " 1   1P2F          113 non-null    float64 \n",
      " 2   2P1F          327 non-null    float64 \n",
      " 3   2P2F          127 non-null    float64 \n",
      " 4   F1            49 non-null     float64 \n",
      " 5   F2            36 non-null     float64 \n",
      " 6   Condicion     346 non-null    category\n",
      " 7   Final         346 non-null    int64   \n",
      " 8   Año           346 non-null    int64   \n",
      " 9   Tipo_Cursada  346 non-null    category\n",
      " 10  Virtual       346 non-null    int64   \n",
      " 11  Oral          71 non-null     object  \n",
      " 12  Grupo         43 non-null     object  \n",
      "dtypes: category(2), float64(6), int64(3), object(2)\n",
      "memory usage: 33.4+ KB\n"
     ]
    }
   ],
   "source": [
    "# Filtro según Nota Final:\n",
    "finales = mate_pi[ mate_pi[\"Final\"] >=6 ]\n",
    "finales.info()"
   ]
  },
  {
   "cell_type": "code",
   "execution_count": 23,
   "id": "44f0252a-c2b9-4162-a731-f2881ea41bde",
   "metadata": {},
   "outputs": [
    {
     "data": {
      "text/plain": [
       "['Promocionado']\n",
       "Categories (4, object): ['Libre' < 'Abandonó' < 'Desaprobado' < 'Promocionado']"
      ]
     },
     "execution_count": 23,
     "metadata": {},
     "output_type": "execute_result"
    }
   ],
   "source": [
    "# Reviso que los datos sean consistentes con la Condicion:\n",
    "finales[\"Condicion\"].unique()"
   ]
  },
  {
   "cell_type": "code",
   "execution_count": 24,
   "id": "1e5bf26f-8a4d-40da-8d14-8885ff9e7077",
   "metadata": {},
   "outputs": [
    {
     "data": {
      "image/png": "[encoded data removed]",
      "text/plain": [
       "<Figure size 511.111x500 with 1 Axes>"
      ]
     },
     "metadata": {},
     "output_type": "display_data"
    }
   ],
   "source": [
    "# Observo la distribución de notas finales:\n",
    "sns.catplot(\n",
    "    data=finales,\n",
    "    x=\"Final\",\n",
    "    kind = \"count\",\n",
    "    stat=\"percent\"\n",
    ")\n",
    "plt.title(\"Desempeño general de Promocionados\")\n",
    "plt.ylabel(\"Porcentaje\"),\n",
    "plt.xlabel(\"Nota Final\")\n",
    "plt.show()"
   ]
  },
  {
   "cell_type": "code",
   "execution_count": 25,
   "id": "41e8e068-191a-4b8f-8ea6-20210983a075",
   "metadata": {},
   "outputs": [
    {
     "data": {
      "text/html": [
       "<div>\n",
       "<style scoped>\n",
       "    .dataframe tbody tr th:only-of-type {\n",
       "        vertical-align: middle;\n",
       "    }\n",
       "\n",
       "    .dataframe tbody tr th {\n",
       "        vertical-align: top;\n",
       "    }\n",
       "\n",
       "    .dataframe thead th {\n",
       "        text-align: right;\n",
       "    }\n",
       "</style>\n",
       "<table border=\"1\" class=\"dataframe\">\n",
       "  <thead>\n",
       "    <tr style=\"text-align: right;\">\n",
       "      <th></th>\n",
       "      <th>Final</th>\n",
       "    </tr>\n",
       "  </thead>\n",
       "  <tbody>\n",
       "    <tr>\n",
       "      <th>mean</th>\n",
       "      <td>7.254335</td>\n",
       "    </tr>\n",
       "    <tr>\n",
       "      <th>median</th>\n",
       "      <td>7.000000</td>\n",
       "    </tr>\n",
       "    <tr>\n",
       "      <th>std</th>\n",
       "      <td>1.160051</td>\n",
       "    </tr>\n",
       "  </tbody>\n",
       "</table>\n",
       "</div>"
      ],
      "text/plain": [
       "           Final\n",
       "mean    7.254335\n",
       "median  7.000000\n",
       "std     1.160051"
      ]
     },
     "execution_count": 25,
     "metadata": {},
     "output_type": "execute_result"
    }
   ],
   "source": [
    "# Calculo magnitudes estadísticas: media, mediana, desviación estándar\n",
    "finales[[\"Final\"]].apply([np.mean, np.median, np.std])"
   ]
  },
  {
   "cell_type": "markdown",
   "id": "afc1ac80-9895-401f-ad4e-ba28b7eaebb6",
   "metadata": {},
   "source": [
    "Notamos que **la mayoría de los alumnos promocionan con notas entre 6 y 7**, siendo 7 la mediana estadística y 7,25 el valor promedio.\n",
    "\n",
    "Es interesante también comparar el **desempeño de los alumnos promocionados según Tipo de Cursada**:"
   ]
  },
  {
   "cell_type": "code",
   "execution_count": 26,
   "id": "c6a9e6de-068b-46d5-90b2-92c45e2d955c",
   "metadata": {},
   "outputs": [
    {
     "data": {
      "image/png": "[encoded data removed]",
      "text/plain": [
       "<Figure size 1000x500 with 3 Axes>"
      ]
     },
     "metadata": {},
     "output_type": "display_data"
    }
   ],
   "source": [
    "# Observo la distribución de notas finales separadas por Tipo_Cursada:\n",
    "\n",
    "cursadas = [\"Verano\", \"1er Semestre\", \"Anticipada\"]\n",
    "\n",
    "fig, axs = plt.subplots(ncols = len(cursadas), figsize=(10,5), sharex=True, sharey=True)\n",
    "\n",
    "for cursada_i in range(len(cursadas)):\n",
    "    sns.countplot(\n",
    "        data=finales[ finales[\"Tipo_Cursada\"] == cursadas[cursada_i]],\n",
    "        x=\"Final\",\n",
    "        stat=\"percent\",\n",
    "        legend=False,\n",
    "        ax=axs[cursada_i]\n",
    "    )\n",
    "    axs[cursada_i].set_title(f\"{cursadas[cursada_i]}\", size=10)\n",
    "    axs[cursada_i].set_xlabel(\"Nota Final\")\n",
    "    axs[cursada_i].set_ylabel(\"Porcentaje\")\n",
    "\n",
    "plt.suptitle(\"Desempeño de Promocionados por Cursada\")\n",
    "plt.ylabel(\"Porcentaje\")\n",
    "plt.xlabel(\"Nota Final\")\n",
    "plt.show()"
   ]
  },
  {
   "cell_type": "code",
   "execution_count": 27,
   "id": "5a2c1eac-984a-4bcc-a7e9-a10596219dc6",
   "metadata": {},
   "outputs": [
    {
     "data": {
      "text/html": [
       "<div>\n",
       "<style scoped>\n",
       "    .dataframe tbody tr th:only-of-type {\n",
       "        vertical-align: middle;\n",
       "    }\n",
       "\n",
       "    .dataframe tbody tr th {\n",
       "        vertical-align: top;\n",
       "    }\n",
       "\n",
       "    .dataframe thead tr th {\n",
       "        text-align: left;\n",
       "    }\n",
       "\n",
       "    .dataframe thead tr:last-of-type th {\n",
       "        text-align: right;\n",
       "    }\n",
       "</style>\n",
       "<table border=\"1\" class=\"dataframe\">\n",
       "  <thead>\n",
       "    <tr>\n",
       "      <th></th>\n",
       "      <th>mean</th>\n",
       "      <th>median</th>\n",
       "      <th>std</th>\n",
       "    </tr>\n",
       "    <tr>\n",
       "      <th></th>\n",
       "      <th>Final</th>\n",
       "      <th>Final</th>\n",
       "      <th>Final</th>\n",
       "    </tr>\n",
       "    <tr>\n",
       "      <th>Tipo_Cursada</th>\n",
       "      <th></th>\n",
       "      <th></th>\n",
       "      <th></th>\n",
       "    </tr>\n",
       "  </thead>\n",
       "  <tbody>\n",
       "    <tr>\n",
       "      <th>Verano</th>\n",
       "      <td>7.385965</td>\n",
       "      <td>7.0</td>\n",
       "      <td>1.140631</td>\n",
       "    </tr>\n",
       "    <tr>\n",
       "      <th>1er Semestre</th>\n",
       "      <td>6.714286</td>\n",
       "      <td>7.0</td>\n",
       "      <td>0.862847</td>\n",
       "    </tr>\n",
       "    <tr>\n",
       "      <th>Anticipada</th>\n",
       "      <td>7.582677</td>\n",
       "      <td>8.0</td>\n",
       "      <td>1.243657</td>\n",
       "    </tr>\n",
       "  </tbody>\n",
       "</table>\n",
       "</div>"
      ],
      "text/plain": [
       "                  mean median       std\n",
       "                 Final  Final     Final\n",
       "Tipo_Cursada                           \n",
       "Verano        7.385965    7.0  1.140631\n",
       "1er Semestre  6.714286    7.0  0.862847\n",
       "Anticipada    7.582677    8.0  1.243657"
      ]
     },
     "execution_count": 27,
     "metadata": {},
     "output_type": "execute_result"
    }
   ],
   "source": [
    "# Calculo magnitudes estadísticas por Tipo de Cursada:\n",
    "pd.pivot_table(\n",
    "    data=finales,\n",
    "    index=\"Tipo_Cursada\",\n",
    "    values=\"Final\",\n",
    "    observed=False,\n",
    "    aggfunc = [\"mean\", \"median\",\"std\"]\n",
    ")"
   ]
  },
  {
   "cell_type": "markdown",
   "id": "a1dce7f8-111d-4b35-b14b-1af2a87c7dd3",
   "metadata": {},
   "source": [
    "Algunas conclusiones respecto al desempeño de los alumnos:\n",
    "\n",
    "- **Todas las distribuciones presentan asimetría a la derecha**, la mayoría de los datos se acumulan por debajo del promedio.\n",
    "- **La modalidad Anticipada muestra los mejores resultados**, con un promedio de notas de 7,58 y una mediana de 8. A su vez, presenta la mayor dispersión respecto al promedio, las notas altas (mayores que 8) son estadísticamente significativas.\n",
    "- Similarmente, la modalidad Verano registra un promedio de notas de 7,39 y una mediana de 7. La asimetría en la distribución es más marcada que en el caso de la Anticipada.\n",
    "- **La modalidad 1er Semestre muestra los peores resultados**, con un promedio de notas de 6,7 y una mediana de 7. La mayoría de los datos se acumulan entre las notas 6 y 7, las notas altas pueden considerarse valores atípicos en esta modalidad."
   ]
  },
  {
   "cell_type": "markdown",
   "id": "cc5dc79f-e701-4e3c-b2f6-3fb58e51ca3d",
   "metadata": {},
   "source": [
    "----------\n",
    "\n",
    "En lo siguiente, **analizaremos cada Tipo de Cursada por separado**, incluyendo el análisis de los resultados en los parciales, buscando establecer un perfil de cada una."
   ]
  },
  {
   "cell_type": "markdown",
   "id": "a30ff9d9-3307-48b5-88ba-3ea4b36de78f",
   "metadata": {},
   "source": [
    "# Análisis de resultados según Tipo de Cursada"
   ]
  },
  {
   "cell_type": "markdown",
   "id": "93ba1ba9-d578-497e-ab96-12aa514f5f7a",
   "metadata": {},
   "source": [
    "Tras el estudio de distintas variables generales respecto al desempeño de los alumnos del curso, hemos notado que existen diferencias entre quienes cursan las distintas modalidades disponibles. Nos proponemos en lo siguiente establecer un perfil de los alumnos de cada Tipo de Cursada, a partir de los datos disponibles. **Nos enfocaremos en los siguientes aspectos**:\n",
    "\n",
    "- **Distribución de alumnos por Condición**: Promocionados, Desaprobados, Abandonó, Libre. \n",
    "- **Permanencia**: en qué instancia se producen más abandonos.\n",
    "- **Desempeño en Parciales**: proporción de aprobados, distribución de notas en cada fecha de parcial, cálculo de magnitudes estadísticas, comparación entre primera y segunda fecha de cada parcial, proporción de promocionados *antes* de la instancia de Flotante.\n",
    "- **Desempeño en Flotantes**: proporción de promocionados en esa instancia, comparación de efectividad respecto a quienes recuperan Primer Parcial o Segundo Parcial."
   ]
  },
  {
   "cell_type": "markdown",
   "id": "eff0565a-561a-446a-88cb-2370c483c41a",
   "metadata": {},
   "source": [
    "Respecto a la modalidad Verano, consideramos que no se poseen datos suficientes como para realizar el estudio propuesto: se registraron sólo 3 años dentro del período analizado, y además en el año 2020 no se consignaron las notas numéricas de los Desaprobados. Por lo tanto, **haremos el análisis únicamente para las modalidades 1er Semestre y Anticipada**."
   ]
  },
  {
   "cell_type": "code",
   "execution_count": 28,
   "id": "44f549fc-d059-4571-9eb2-0dd1654f29ec",
   "metadata": {},
   "outputs": [],
   "source": [
    "# Función para generar gráficos por Tipo de Cursada:\n",
    "def generador_graficos( df, cursada ):\n",
    "    \"\"\"\n",
    "    Parameters\n",
    "    ----------\n",
    "    df : pandas DataFrame\n",
    "    cursada : str\n",
    "        Options: Verano, Anticipada, 1er Semestre\n",
    "        \n",
    "    Returns\n",
    "    -------\n",
    "    [fig1, fig2] Figure objects\n",
    "\n",
    "    \"\"\"\n",
    "    # Filtro el dataset por Tipo_Cursada = cursada\n",
    "    filtered = df[ df[\"Tipo_Cursada\"] == cursada ]\n",
    "\n",
    "    # Figura 1: distribución según Condición\n",
    "    fig1, ax1 = plt.subplots()\n",
    "    # Creo el container\n",
    "    sns.countplot(\n",
    "        data=filtered,\n",
    "        x=\"Condicion\",\n",
    "        hue=\"Condicion\",\n",
    "        palette=colores_cond,\n",
    "        stat=\"percent\",\n",
    "        ax=ax1\n",
    "    )\n",
    "    # Extraigo valores numéricos y los agrego a las barras\n",
    "    for i in ax1.containers:\n",
    "        ax1.bar_label(i, padding=0, fmt=\"%.1f\", weight=\"bold\")\n",
    "    # Labels y título\n",
    "    ax1.set_ylabel(\"Porcentaje\")\n",
    "    ax1.set_xlabel(\"\")\n",
    "    fig1.suptitle(\"Desempeño general - \"+ cursada)\n",
    "\n",
    "    # Figura 2: comparación de histogramas de cursada y de Global de la materia\n",
    "    fig2, ax2 = plt.subplots()\n",
    "    # Global:\n",
    "    sns.histplot(\n",
    "        data=df, \n",
    "        x=\"Condicion\", \n",
    "        bins=5, \n",
    "        stat=\"percent\", \n",
    "        alpha=0.6, \n",
    "        discrete=True,\n",
    "        label=\"Global 2020-2025\",\n",
    "        ax=ax2\n",
    "    )\n",
    "    \n",
    "    # Cursada:\n",
    "    sns.histplot(data=filtered, \n",
    "                 x=\"Condicion\", \n",
    "                 bins=5, \n",
    "                 stat=\"percent\", \n",
    "                 alpha=0.6, \n",
    "                 discrete=True, \n",
    "                 label=cursada,\n",
    "                 ax=ax2                \n",
    "    )\n",
    "    # Labels y título\n",
    "    ax2.set_xlabel(\"\")\n",
    "    ax2.set_ylabel(\"Porcentaje\")\n",
    "    ax2.legend(bbox_to_anchor=(1,1))\n",
    "    fig2.suptitle(\"Comparación \" + cursada + \" y Global\")\n",
    "\n",
    "    # Prevenir display de figuras\n",
    "    plt.close(fig1)\n",
    "    plt.close(fig2)\n",
    "    \n",
    "    return [fig1, fig2]"
   ]
  },
  {
   "cell_type": "code",
   "execution_count": 29,
   "id": "e2153ebb-dd67-4820-8f09-95a4921f24a2",
   "metadata": {},
   "outputs": [],
   "source": [
    "# Función para generar tablas por Tipo de Cursada\n",
    "def generador_tablas( df, cursada ):\n",
    "    \"\"\"\n",
    "    Parameters\n",
    "    ----------\n",
    "    df : pandas DataFrame\n",
    "    cursada : string\n",
    "        Options: Verano, Anticipada, 1er Semestre\n",
    "        \n",
    "    Returns\n",
    "    -------\n",
    "    tabla: pandas DataFrame\n",
    "\n",
    "    \"\"\"\n",
    "    # Filtro el dataset por Tipo_Cursada = cursada\n",
    "    filtered = df[ df[\"Tipo_Cursada\"] == cursada ]\n",
    "\n",
    "    # Tabla: comparativa con Global según Condición\n",
    "    # Calculo porcentajes generales y de cursada\n",
    "    general = df[\"Condicion\"].value_counts(normalize=True).round(3) *100\n",
    "    porcentajes_cursada = filtered[\"Condicion\"].value_counts(normalize=True).round(3) *100\n",
    "    # Creo el dataframe con los datos globales y de cursada:\n",
    "    compara= pd.DataFrame(\n",
    "                data={\n",
    "                \"Global\" : general,\n",
    "                cursada : porcentajes_cursada}\n",
    "                )\n",
    "    \n",
    "    # Agrego variaciones porcentuales\n",
    "    compara[\"Dif. en ptos. porcentuales\"] = (compara[cursada] - compara[\"Global\"]).round(2)\n",
    "    compara[\"Variación (%)\"] = (compara[\"Dif. en ptos. porcentuales\"] / compara[\"Global\"]).round(3) *100\n",
    "\n",
    "    return compara"
   ]
  },
  {
   "cell_type": "markdown",
   "id": "5aa35272-6e8f-4ab2-9c2e-5ce519b6315b",
   "metadata": {},
   "source": [
    "## Modalidad 1er Semestre"
   ]
  },
  {
   "cell_type": "markdown",
   "id": "f3bcc60c-9c14-467f-b346-c4433aa78c3e",
   "metadata": {},
   "source": [
    "Esta modalidad de cursada se ofrece entre marzo y julio, en el primer trimestre del año. Usualmente **se compone en su mayoría de alumnos que no lograron aprobar la materia en instancias previas (recursantes)**. Sin embargo, no se dispone de información relativa a la proporción de recursantes dentro del dataset."
   ]
  },
  {
   "cell_type": "code",
   "execution_count": 30,
   "id": "a7d1114b-605b-462d-8180-fd66972c8b1e",
   "metadata": {},
   "outputs": [],
   "source": [
    "# Creo slice del dataset original, correspondiente a 1er Semestre:\n",
    "matepi_1S = mate_pi[ mate_pi[\"Tipo_Cursada\"] == \"1er Semestre\" ] "
   ]
  },
  {
   "cell_type": "markdown",
   "id": "b52314ba-38d7-4f3e-b4e4-62020b0a1d7b",
   "metadata": {},
   "source": [
    "### Distribución por Condición"
   ]
  },
  {
   "cell_type": "code",
   "execution_count": 31,
   "id": "0b9241af-5ff0-4191-a9cc-ef41371b13e3",
   "metadata": {},
   "outputs": [
    {
     "data": {
      "image/png": "[encoded data removed]",
      "text/plain": [
       "<Figure size 640x480 with 1 Axes>"
      ]
     },
     "metadata": {},
     "output_type": "display_data"
    }
   ],
   "source": [
    "# Desempeño general de los cursos: distribución según Condición\n",
    "# Creo el container\n",
    "ax = sns.countplot(\n",
    "      data=matepi_1S,\n",
    "      x=\"Condicion\",\n",
    "      hue=\"Condicion\",\n",
    "      palette=colores_cond,\n",
    "      stat=\"percent\"\n",
    ")\n",
    "\n",
    "# Extraigo valores numéricos y los agrego a las barras\n",
    "for i in ax.containers:\n",
    "    ax.bar_label(i, padding=0, fmt=\"%.1f\", weight=\"bold\")\n",
    "    \n",
    "plt.suptitle(\"Desempeño general - 1er Semestre\")\n",
    "plt.ylabel(\"Porcentaje\")\n",
    "plt.xlabel(\"\")\n",
    "plt.show()"
   ]
  },
  {
   "cell_type": "markdown",
   "id": "e3e773c8-231f-465c-8ada-b3d162033706",
   "metadata": {},
   "source": [
    "Comparemos con los resultados obtenidos para el global de la materia:"
   ]
  },
  {
   "cell_type": "code",
   "execution_count": 32,
   "id": "be871dce-0754-473e-9226-d9e0aef7f555",
   "metadata": {},
   "outputs": [
    {
     "data": {
      "image/png": "[encoded data removed]",
      "text/plain": [
       "<Figure size 640x480 with 1 Axes>"
      ]
     },
     "metadata": {},
     "output_type": "display_data"
    }
   ],
   "source": [
    "# Grafico en simultáneo histogramas de 1er Semestre y de Global de la materia\n",
    "# Global:\n",
    "sns.histplot(\n",
    "    data=mate_pi, \n",
    "    x=\"Condicion\", \n",
    "    bins=5, \n",
    "    stat=\"percent\", \n",
    "    alpha=0.6, \n",
    "    discrete=True, \n",
    "    label=\"Global 2020-2025\")\n",
    "\n",
    "# 1er Semestre:\n",
    "sns.histplot(data=matepi_1S, \n",
    "             x=\"Condicion\", \n",
    "             bins=5, \n",
    "             stat=\"percent\", \n",
    "             alpha=0.6, \n",
    "             discrete=True, \n",
    "             label=\"1er Semestre\")\n",
    "\n",
    "plt.title(\"Comparación 1er Semestre y Global\")\n",
    "plt.legend()\n",
    "plt.xlabel(\"\")\n",
    "plt.ylabel(\"Porcentaje\")\n",
    "plt.show()"
   ]
  },
  {
   "cell_type": "code",
   "execution_count": 33,
   "id": "6a42ee4e-f571-462c-adbb-15a0a45521b6",
   "metadata": {},
   "outputs": [],
   "source": [
    "# Creo el dataframe con los datos globales y de 1er Semestre:\n",
    "compara_1S = pd.DataFrame(\n",
    "            data={\n",
    "            \"Global\" : matepi_global,\n",
    "            \"1er Semestre\" : matepi_1S[\"Condicion\"].value_counts(normalize=True).round(3) *100}\n",
    "            )\n",
    "\n",
    "# Agrego variaciones porcentuales\n",
    "compara_1S[\"Dif. en ptos. porcentuales\"] = (compara_1S[\"1er Semestre\"] - compara_1S[\"Global\"]).round(2)\n",
    "compara_1S[\"Variación (%)\"] = (compara_1S[\"Dif. en ptos. porcentuales\"] / compara_1S[\"Global\"]).round(3) *100"
   ]
  },
  {
   "cell_type": "code",
   "execution_count": 34,
   "id": "09def088-55fd-4da1-941e-809168bf8f65",
   "metadata": {},
   "outputs": [
    {
     "data": {
      "text/html": [
       "<div>\n",
       "<style scoped>\n",
       "    .dataframe tbody tr th:only-of-type {\n",
       "        vertical-align: middle;\n",
       "    }\n",
       "\n",
       "    .dataframe tbody tr th {\n",
       "        vertical-align: top;\n",
       "    }\n",
       "\n",
       "    .dataframe thead th {\n",
       "        text-align: right;\n",
       "    }\n",
       "</style>\n",
       "<table border=\"1\" class=\"dataframe\">\n",
       "  <thead>\n",
       "    <tr style=\"text-align: right;\">\n",
       "      <th></th>\n",
       "      <th>Global</th>\n",
       "      <th>1er Semestre</th>\n",
       "      <th>Dif. en ptos. porcentuales</th>\n",
       "      <th>Variación (%)</th>\n",
       "    </tr>\n",
       "    <tr>\n",
       "      <th>Condicion</th>\n",
       "      <th></th>\n",
       "      <th></th>\n",
       "      <th></th>\n",
       "      <th></th>\n",
       "    </tr>\n",
       "  </thead>\n",
       "  <tbody>\n",
       "    <tr>\n",
       "      <th>Libre</th>\n",
       "      <td>26.0</td>\n",
       "      <td>23.8</td>\n",
       "      <td>-2.2</td>\n",
       "      <td>-8.5</td>\n",
       "    </tr>\n",
       "    <tr>\n",
       "      <th>Abandonó</th>\n",
       "      <td>28.8</td>\n",
       "      <td>34.1</td>\n",
       "      <td>5.3</td>\n",
       "      <td>18.4</td>\n",
       "    </tr>\n",
       "    <tr>\n",
       "      <th>Desaprobado</th>\n",
       "      <td>16.9</td>\n",
       "      <td>20.1</td>\n",
       "      <td>3.2</td>\n",
       "      <td>18.9</td>\n",
       "    </tr>\n",
       "    <tr>\n",
       "      <th>Promocionado</th>\n",
       "      <td>28.3</td>\n",
       "      <td>22.0</td>\n",
       "      <td>-6.3</td>\n",
       "      <td>-22.3</td>\n",
       "    </tr>\n",
       "  </tbody>\n",
       "</table>\n",
       "</div>"
      ],
      "text/plain": [
       "              Global  1er Semestre  Dif. en ptos. porcentuales  Variación (%)\n",
       "Condicion                                                                    \n",
       "Libre           26.0          23.8                        -2.2           -8.5\n",
       "Abandonó        28.8          34.1                         5.3           18.4\n",
       "Desaprobado     16.9          20.1                         3.2           18.9\n",
       "Promocionado    28.3          22.0                        -6.3          -22.3"
      ]
     },
     "execution_count": 34,
     "metadata": {},
     "output_type": "execute_result"
    }
   ],
   "source": [
    "compara_1S"
   ]
  },
  {
   "cell_type": "markdown",
   "id": "d77e7921-3fdd-4b76-a6ba-875873d0abbb",
   "metadata": {},
   "source": [
    "Notemos que:\n",
    "\n",
    "- La tasa de abandono en la modalidad 1er Semestre se encuentra 18.4% por encima de la tasa de abandono de la materia en general: **los alumnos en esta modalidad tienden a no agotar las instancias de parcial**.\n",
    "- De la misma manera, la tasa de Desaprobados se encuentra 18.9% por encima del promedio global y la tasa de promocionados se encuentra 22.3% por debajo del promedio: **esta modalidad muestra peor efectividad que el global de la materia**.\n",
    "- La tasa de alumnos Libres muestra diferencia respecto a la tasa promedio, pero es menor al 10%, no tan significativa como en los otros casos.\n",
    "\n",
    "En general puede concluirse que en la modalidad 1er Semestre la proporción de alumnos que se mantienen en la cursada es similar al promedio de la materia, pero presenta peor efectividad que el promedio, logrando una tasa de aprobados significativamente menor."
   ]
  },
  {
   "cell_type": "markdown",
   "id": "a9e019a3-feac-444c-8b20-c279649e3b1f",
   "metadata": {},
   "source": [
    "### Permanencia"
   ]
  },
  {
   "cell_type": "code",
   "execution_count": 35,
   "id": "7ea50591-7f1a-4d97-b158-745ac1a82543",
   "metadata": {},
   "outputs": [
    {
     "data": {
      "text/html": [
       "<div>\n",
       "<style scoped>\n",
       "    .dataframe tbody tr th:only-of-type {\n",
       "        vertical-align: middle;\n",
       "    }\n",
       "\n",
       "    .dataframe tbody tr th {\n",
       "        vertical-align: top;\n",
       "    }\n",
       "\n",
       "    .dataframe thead th {\n",
       "        text-align: right;\n",
       "    }\n",
       "</style>\n",
       "<table border=\"1\" class=\"dataframe\">\n",
       "  <thead>\n",
       "    <tr style=\"text-align: right;\">\n",
       "      <th></th>\n",
       "      <th>1P1F</th>\n",
       "      <th>1P2F</th>\n",
       "      <th>2P1F</th>\n",
       "      <th>2P2F</th>\n",
       "      <th>F1</th>\n",
       "      <th>F2</th>\n",
       "      <th>Condicion</th>\n",
       "      <th>Final</th>\n",
       "      <th>Año</th>\n",
       "      <th>Tipo_Cursada</th>\n",
       "      <th>Virtual</th>\n",
       "      <th>Oral</th>\n",
       "      <th>Grupo</th>\n",
       "    </tr>\n",
       "  </thead>\n",
       "  <tbody>\n",
       "    <tr>\n",
       "      <th>406</th>\n",
       "      <td>2.2</td>\n",
       "      <td>3.4</td>\n",
       "      <td>2.15</td>\n",
       "      <td>3.5</td>\n",
       "      <td>NaN</td>\n",
       "      <td>NaN</td>\n",
       "      <td>Desaprobado</td>\n",
       "      <td>0</td>\n",
       "      <td>2022</td>\n",
       "      <td>1er Semestre</td>\n",
       "      <td>0</td>\n",
       "      <td>NaN</td>\n",
       "      <td>G1</td>\n",
       "    </tr>\n",
       "    <tr>\n",
       "      <th>407</th>\n",
       "      <td>NaN</td>\n",
       "      <td>NaN</td>\n",
       "      <td>NaN</td>\n",
       "      <td>NaN</td>\n",
       "      <td>NaN</td>\n",
       "      <td>NaN</td>\n",
       "      <td>Libre</td>\n",
       "      <td>0</td>\n",
       "      <td>2022</td>\n",
       "      <td>1er Semestre</td>\n",
       "      <td>0</td>\n",
       "      <td>NaN</td>\n",
       "      <td>G1</td>\n",
       "    </tr>\n",
       "    <tr>\n",
       "      <th>408</th>\n",
       "      <td>NaN</td>\n",
       "      <td>NaN</td>\n",
       "      <td>NaN</td>\n",
       "      <td>NaN</td>\n",
       "      <td>NaN</td>\n",
       "      <td>NaN</td>\n",
       "      <td>Libre</td>\n",
       "      <td>0</td>\n",
       "      <td>2022</td>\n",
       "      <td>1er Semestre</td>\n",
       "      <td>0</td>\n",
       "      <td>NaN</td>\n",
       "      <td>G1</td>\n",
       "    </tr>\n",
       "    <tr>\n",
       "      <th>409</th>\n",
       "      <td>NaN</td>\n",
       "      <td>NaN</td>\n",
       "      <td>NaN</td>\n",
       "      <td>NaN</td>\n",
       "      <td>NaN</td>\n",
       "      <td>NaN</td>\n",
       "      <td>Libre</td>\n",
       "      <td>0</td>\n",
       "      <td>2022</td>\n",
       "      <td>1er Semestre</td>\n",
       "      <td>0</td>\n",
       "      <td>NaN</td>\n",
       "      <td>G1</td>\n",
       "    </tr>\n",
       "    <tr>\n",
       "      <th>410</th>\n",
       "      <td>NaN</td>\n",
       "      <td>NaN</td>\n",
       "      <td>NaN</td>\n",
       "      <td>NaN</td>\n",
       "      <td>NaN</td>\n",
       "      <td>NaN</td>\n",
       "      <td>Libre</td>\n",
       "      <td>0</td>\n",
       "      <td>2022</td>\n",
       "      <td>1er Semestre</td>\n",
       "      <td>0</td>\n",
       "      <td>NaN</td>\n",
       "      <td>G1</td>\n",
       "    </tr>\n",
       "  </tbody>\n",
       "</table>\n",
       "</div>"
      ],
      "text/plain": [
       "     1P1F  1P2F  2P1F  2P2F  F1  F2    Condicion  Final   Año  Tipo_Cursada  \\\n",
       "406   2.2   3.4  2.15   3.5 NaN NaN  Desaprobado      0  2022  1er Semestre   \n",
       "407   NaN   NaN   NaN   NaN NaN NaN        Libre      0  2022  1er Semestre   \n",
       "408   NaN   NaN   NaN   NaN NaN NaN        Libre      0  2022  1er Semestre   \n",
       "409   NaN   NaN   NaN   NaN NaN NaN        Libre      0  2022  1er Semestre   \n",
       "410   NaN   NaN   NaN   NaN NaN NaN        Libre      0  2022  1er Semestre   \n",
       "\n",
       "     Virtual Oral Grupo  \n",
       "406        0  NaN    G1  \n",
       "407        0  NaN    G1  \n",
       "408        0  NaN    G1  \n",
       "409        0  NaN    G1  \n",
       "410        0  NaN    G1  "
      ]
     },
     "execution_count": 35,
     "metadata": {},
     "output_type": "execute_result"
    }
   ],
   "source": [
    "matepi_1S.head()"
   ]
  },
  {
   "cell_type": "code",
   "execution_count": 37,
   "id": "43ecc4c6-e390-4130-99a9-0ccddca2a5af",
   "metadata": {},
   "outputs": [
    {
     "data": {
      "text/plain": [
       "'\\nVoy a crear columnas para cada etapa del curso: Etapa 1, 2, 3, 4\\nEl criterio para generar la curva de supervivencia va a ser:\\n    Etapa 1: rinde Primera Fecha del Primer Parcial\\n    Etapa 2: rinde Recup. del Primer Parcial o aprueba en Primera Fecha\\n    Etapa 3: rinde Primera Fecha del Segundo Parcial\\n    Etapa 4: rinde Recup. del Segundo Parcial o aprueba en Primera Fecha\\n    Etapa 5: rinde Flotante o ya Promocionó/Desaprobó\\n\\n'"
      ]
     },
     "execution_count": 37,
     "metadata": {},
     "output_type": "execute_result"
    }
   ],
   "source": [
    "\"\"\"\n",
    "Voy a crear columnas para cada etapa del curso: Etapa 1, 2, 3, 4\n",
    "El criterio para generar la curva de supervivencia va a ser:\n",
    "    Etapa 1: rinde Primera Fecha del Primer Parcial\n",
    "    Etapa 2: rinde Recup. del Primer Parcial o aprueba en Primera Fecha\n",
    "    Etapa 3: rinde Primera Fecha del Segundo Parcial\n",
    "    Etapa 4: rinde Recup. del Segundo Parcial o aprueba en Primera Fecha\n",
    "    Etapa 5: rinde Flotante o ya Promocionó/Desaprobó\n",
    "\n",
    "\"\"\""
   ]
  },
  {
   "cell_type": "code",
   "execution_count": null,
   "id": "2fd0c9f0-3613-4995-86a8-35ad7893c0be",
   "metadata": {},
   "outputs": [],
   "source": [
    "# En construcción"
   ]
  },
  {
   "cell_type": "markdown",
   "id": "fec82c6a-499f-46db-b93a-d986954c773c",
   "metadata": {
    "jp-MarkdownHeadingCollapsed": true
   },
   "source": [
    "## Modalidad Anticipada"
   ]
  },
  {
   "cell_type": "markdown",
   "id": "afa70463-03eb-467e-b9a2-e540266f7c47",
   "metadata": {},
   "source": [
    "Esta modalidad de cursada se ofrece entre agosto y noviembre, en el segundo semestre del año. Usualmente **se compone en su mayoría de alumnos que están crusando el secundario y desean \"adelantar\" la primera materia de la facultad**. Sin embargo, también puede haber presentes alumnos recursantes, y no se dispone de información respecto a la proporción de estudiantes de secundario y recursantes dentro del dataset."
   ]
  },
  {
   "cell_type": "markdown",
   "id": "a114d9ed-cf27-41b7-bbd1-f5a253da49c2",
   "metadata": {},
   "source": [
    "### Distribución por Condición"
   ]
  },
  {
   "cell_type": "code",
   "execution_count": null,
   "id": "75f8d94d-3659-4b79-963a-8dedb195cc3f",
   "metadata": {},
   "outputs": [],
   "source": [
    "# Obtengo los gráficos correspondientes:\n",
    "graficos = generador_graficos( mate_pi, \"Anticipada\")"
   ]
  },
  {
   "cell_type": "code",
   "execution_count": null,
   "id": "945f2bfe-8e26-4707-9313-1f6880efec71",
   "metadata": {},
   "outputs": [],
   "source": [
    "# Distribución por Condición para modalidad Anticipada:\n",
    "fig = graficos[0]\n",
    "display(fig)"
   ]
  },
  {
   "cell_type": "markdown",
   "id": "ef296746-969d-42f9-9dfb-739b11e47f6f",
   "metadata": {},
   "source": [
    "Comparemos con los resultados obtenidos por el global de la materia."
   ]
  },
  {
   "cell_type": "code",
   "execution_count": null,
   "id": "e3caf8b7-f762-457f-9a1a-bb0ab51812d7",
   "metadata": {},
   "outputs": [],
   "source": [
    "# Grafico en simultáneo histogramas de Anticipada y de Global de la materia\n",
    "fig = graficos[1]\n",
    "display(fig)"
   ]
  },
  {
   "cell_type": "code",
   "execution_count": null,
   "id": "4af16520-b8a7-49f0-a671-c7c6dcb10d47",
   "metadata": {},
   "outputs": [],
   "source": [
    "# Creo la tabla para comparar porcentajes\n",
    "tabla = generador_tablas(mate_pi, \"Anticipada\")\n",
    "tabla"
   ]
  },
  {
   "cell_type": "markdown",
   "id": "0e185975-44c7-485a-b69f-e1e00cf9caae",
   "metadata": {},
   "source": [
    "Notemos que:\n",
    "\n",
    "- **La tasa de promocionados en la modalidad Anticipada es similar al promedio general**, mostrando una diferencia de 1.4 puntos porcentuales.\n",
    "- Sin embargo, **se evidencia un aumento significativo en la cantidad de alumnos Libres**, del 18.5% respecto al promedio general, que se condice con una disminución en la cantidad de alumnos que abandonaron o desaprobaron.\n",
    "\n",
    "En general puede concluirse que la modalidad Anticipada presenta una efectividad similar al promedio de la materia, pero una mayor proporción de alumnos que quedan libres. Corresponde con estudiantes que se inscriben pero no cursan la materia, o abandonan incluso antes del primer parcial. Sin embargo, quienes continúan en la cursada muestran un buen desempeño, con tasas de abandono y desaprobación menores que el promedio de la materia."
   ]
  },
  {
   "cell_type": "code",
   "execution_count": null,
   "id": "7b1976ab-6a6e-4f81-b961-1c31fe69ad36",
   "metadata": {},
   "outputs": [],
   "source": []
  },
  {
   "cell_type": "code",
   "execution_count": null,
   "id": "71c248fc-cf5d-495f-94cc-3b1443a8d40f",
   "metadata": {},
   "outputs": [],
   "source": [
    "# En construcción"
   ]
  }
 ],
 "metadata": {
  "kernelspec": {
   "display_name": "Python [conda env:base] *",
   "language": "python",
   "name": "conda-base-py"
  },
  "language_info": {
   "codemirror_mode": {
    "name": "ipython",
    "version": 3
   },
   "file_extension": ".py",
   "mimetype": "text/x-python",
   "name": "python",
   "nbconvert_exporter": "python",
   "pygments_lexer": "ipython3",
   "version": "3.13.5"
  }
 },
 "nbformat": 4,
 "nbformat_minor": 5
}
